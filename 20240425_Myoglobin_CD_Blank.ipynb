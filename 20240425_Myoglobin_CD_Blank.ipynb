{
  "nbformat": 4,
  "nbformat_minor": 0,
  "metadata": {
    "colab": {
      "provenance": [],
      "collapsed_sections": [
        "Xk2x3X_18fEm",
        "xlmKofoIDJ6u",
        "rxfxbxZiCKXf",
        "EpKL1Pms9hKm",
        "XwFR1DApAF9u",
        "TX0MWmKLA962",
        "F3tICVE7EkhB"
      ],
      "include_colab_link": true
    },
    "kernelspec": {
      "name": "python3",
      "display_name": "Python 3"
    },
    "language_info": {
      "name": "python"
    }
  },
  "cells": [
    {
      "cell_type": "markdown",
      "metadata": {
        "id": "view-in-github",
        "colab_type": "text"
      },
      "source": [
        "<a href=\"https://colab.research.google.com/github/UzLChiRho/UzL_BPC_CD/blob/main/20240425_Myoglobin_CD_Blank.ipynb\" target=\"_parent\"><img src=\"https://colab.research.google.com/assets/colab-badge.svg\" alt=\"Open In Colab\"/></a>"
      ]
    },
    {
      "cell_type": "markdown",
      "source": [
        "#**Import von Paketen**"
      ],
      "metadata": {
        "id": "Xk2x3X_18fEm"
      }
    },
    {
      "cell_type": "code",
      "source": [
        "#@title Einladen der notwendigen Pakete\n",
        "#@markdown Führen Sie die Zelle über den linken \"Play-Button\" aus um die notwendigen Packages für die Pythonscripte zu laden.\n",
        "#import the following for handling data in colab\n",
        "from google.colab import files\n",
        "#import numpy\n",
        "import numpy as np\n",
        "#import matplotlib\n",
        "import matplotlib.pyplot as plt\n",
        "import sys"
      ],
      "metadata": {
        "id": "b8bzQQ6_v9Du",
        "cellView": "form"
      },
      "execution_count": null,
      "outputs": []
    },
    {
      "cell_type": "markdown",
      "source": [
        "#**Auswertung des UV-VIS-Spektrums von Myoglobin**"
      ],
      "metadata": {
        "id": "xlmKofoIDJ6u"
      }
    },
    {
      "cell_type": "code",
      "source": [
        "#@title Einladen des **UV-VIS-Spektrums von Myoglobin**\n",
        "#@markdown Führen Sie die Zelle über den linken \"Play-Button\" aus und wählen Sie \"Durchsuchen\" um das UV-VIS-Spektrum Ihrer Myoglobinprobe zu laden.\n",
        "uvvisUpload = files.upload()\n",
        "uvvisFileName = next(iter(uvvisUpload))\n"
      ],
      "metadata": {
        "id": "Abkkm0qzv7mO",
        "cellView": "form"
      },
      "execution_count": null,
      "outputs": []
    },
    {
      "cell_type": "code",
      "source": [
        "#@title Herausschreiben der UV-VIS-Daten\n",
        "with open(uvvisFileName, 'r') as f:\n",
        "    lines = f.readlines()\n",
        "    wl_row = lines[4].split('\\t')[14:]\n",
        "    wavelength = np.array(wl_row, dtype=float)\n",
        "#    print(wavelength)\n",
        "#    print(wavelength[1])\n",
        "\n",
        "\n",
        "with open(uvvisFileName, 'r') as f:\n",
        "    lines = f.readlines()\n",
        "    names = []\n",
        "    row = lines[5].split('\\t')[14:]\n",
        "    new_array = np.char.replace(row, \",\", \".\")\n",
        "    numOfElemts = new_array.size\n",
        "    data = np.zeros((len(lines)-5, numOfElemts))\n",
        "    for i in range(5, len(lines)):\n",
        "      name = lines[i].split('\\t')[0]\n",
        "      names.append(name)\n",
        "      row = lines[i].split('\\t')[14:]\n",
        "      new_array = np.char.replace(row, \",\", \".\")\n",
        "      data[i-5,:] = new_array\n"
      ],
      "metadata": {
        "id": "q99Z2B2bONwz",
        "cellView": "form"
      },
      "execution_count": null,
      "outputs": []
    },
    {
      "cell_type": "code",
      "source": [
        "#@title Darstellen des Spektrums\n",
        "\n",
        "def find_nearest(array, value):\n",
        "    array = np.asarray(array)\n",
        "    idx = (np.abs(array - value)).argmin()\n",
        "    return array[idx]\n",
        "\n",
        "#@markdown Geben Sie die Wellenlänge (in nm) an, bei der auf die Proteinkonzentration geschlossen werden kann:\n",
        "Wellenlänge_CD = 0 #@param {type:\"integer\"}\n",
        "wl_select = find_nearest(wavelength, value=Wellenlänge_CD)\n",
        "wl_index = np.where(wavelength == wl_select)\n",
        "#@markdown Wählen Sie das anzuzeigende Spektrum (nur falls mehrere Spektren aufgenommen wurden relevant, default = 1)\n",
        "CD_Spektrum_num = 1 #@param {type:\"integer\"}\n",
        "CD_spec_num = CD_Spektrum_num - 1\n",
        "\n",
        "Achsenbeschriftung_X =  '' #@param {type:\"string\"}\n",
        "Achsenbeschriftung_Y = '' #@param {type:\"string\"}\n",
        "\n",
        "plt.plot(wavelength, data[CD_spec_num,:], color=\"black\",label = names[CD_spec_num])\n",
        "plt.axvline(x = Wellenlänge_CD, color = 'r', linestyle='dashed',label = 'Wellenlänge: '+ str(wl_select) + \" nm\")\n",
        "plt.xlim(250,700)\n",
        "plt.xlabel(Achsenbeschriftung_X)\n",
        "plt.ylabel(Achsenbeschriftung_Y)\n",
        "\n",
        "plt.minorticks_on()\n",
        "\n",
        "plt.legend(prop={'size': 8})\n",
        "\n",
        "plt.savefig('UV_VIS.png', dpi=300)\n",
        "\n",
        "plt.show()\n",
        "\n",
        "abs = data[CD_spec_num,wl_index]\n",
        "print(\"Ausgewählte Wellenlänge (in nm):\")\n",
        "print(str(wl_select))\n",
        "print(Achsenbeschriftung_Y + \" bei \" + str(wl_select) + \" nm:\")\n",
        "print(str(data[CD_spec_num,wl_index]))\n"
      ],
      "metadata": {
        "id": "itX8hxywutBz",
        "cellView": "form"
      },
      "execution_count": null,
      "outputs": []
    },
    {
      "cell_type": "code",
      "source": [
        "#@title Download des UV-VIS-Spektrums\n",
        "files.download('UV_VIS.png')"
      ],
      "metadata": {
        "id": "3m2JZJY8sc9R",
        "cellView": "form"
      },
      "execution_count": null,
      "outputs": []
    },
    {
      "cell_type": "markdown",
      "source": [
        "#**Auswertung des CD-Spektrums von Myoglobin bei 25 °C**"
      ],
      "metadata": {
        "id": "rxfxbxZiCKXf"
      }
    },
    {
      "cell_type": "code",
      "execution_count": null,
      "metadata": {
        "id": "XEg1tY91Z7b9"
      },
      "outputs": [],
      "source": [
        "#@title Einladen des **CD-Pufferspektrums**\n",
        "#@markdown Führen Sie die Zelle über den linken \"Play-Button\" aus und wählen Sie \"Durchsuchen\" um das CD-Spektrum Ihrer Puffermessung zu laden.\n",
        "bufferUpload = files.upload()\n",
        "bufferFileName = next(iter(bufferUpload))\n"
      ]
    },
    {
      "cell_type": "code",
      "source": [
        "#@title Einladen des **Protein-CD-Spektrums**\n",
        "#@markdown Führen Sie die Zelle über den linken \"Play-Button\" aus und wählen Sie \"Durchsuchen\" um das CD-Spektrum des Myoglobins bei 25 °C zu laden.\n",
        "#from google.colab import files\n",
        "CDUpload = files.upload()\n",
        "CDFileName = next(iter(CDUpload))"
      ],
      "metadata": {
        "id": "icmbNNd2aSBl"
      },
      "execution_count": null,
      "outputs": []
    },
    {
      "cell_type": "code",
      "source": [
        "#@title Herausschreiben der **Wellenlänge** mit den zugehörigen Werten für **CD** und die **HT-Spannung** aus den *zuvor eingeladenen* .txt-Dateien\n",
        "# Text file data converted to float CD_data skipping the header (first 19 lines)\n",
        "Buffer_data = np.loadtxt(bufferFileName, skiprows=19, dtype=float)\n",
        "wavelength_b = (Buffer_data[:,0])\n",
        "CDvalue_b = (Buffer_data[:,1])\n",
        "HTvoltage_b = (Buffer_data[:,2])\n",
        "# Text file data converted to float CD_data skipping the header (first 19 lines)\n",
        "CD_data = np.loadtxt(CDFileName, skiprows=19, dtype=float)\n",
        "wavelength = (CD_data[:,0])\n",
        "CDvalue = (CD_data[:,1])\n",
        "HTvoltage = (CD_data[:,2])\n",
        "\n",
        "#print(CDvalue_b)\n",
        "#print(CDvalue)"
      ],
      "metadata": {
        "id": "YbxKjLDzagXb"
      },
      "execution_count": null,
      "outputs": []
    },
    {
      "cell_type": "code",
      "source": [
        "#@title Korrektur des Protein-CD-Spektrums\n",
        "#@markdown Wie würden sie das aufgenommene Protein-CD-Spektrum mithilfe des Pufferspektrums korrigieren?\n",
        "Spektrum1 = 'Pufferspektrum' #@param [\"Protein-CD-Spektrum\", \"Pufferspektrum\"]\n",
        "if(Spektrum1 == 'Protein-CD-Spektrum'):\n",
        "  spec_one = CDvalue\n",
        "else:\n",
        "  spec_one = CDvalue_b\n",
        "\n",
        "Operator = '+'#@param [\"+\", \"-\", \"*\", \":\"]\n",
        "\n",
        "Spektrum2 = 'Pufferspektrum' #@param [\"Protein-CD-Spektrum\", \"Pufferspektrum\"]\n",
        "if(Spektrum2 == 'Protein-CD-Spektrum'):\n",
        "  spec_two = CDvalue\n",
        "else:\n",
        "  spec_two = CDvalue_b\n",
        "\n",
        "if(Operator == '+'):\n",
        "  spec_cor = spec_one + spec_two\n",
        "elif(Operator == '+'):\n",
        "  spec_cor = spec_one - spec_two\n",
        "elif(Operator == '+'):\n",
        "  spec_cor = spec_one * spec_two\n",
        "else:\n",
        "    spec_cor = spec_one / spec_two\n",
        "\n",
        "corOutputString = 'Ihre ausgwählte Spektrenkorrektur lautet: ' + Spektrum1 + ' '+Operator + ' ' + Spektrum2\n",
        "print(corOutputString)\n"
      ],
      "metadata": {
        "id": "Ikvd02y3atLG"
      },
      "execution_count": null,
      "outputs": []
    },
    {
      "cell_type": "code",
      "source": [
        "#@title Darstellungsoptionen für die Darstellung des CD-Spektrums von Myoglobin\n",
        "#@markdown Wählen Sie aus, welche Daten sie darstellen möchten:\n",
        "XWerte = 'Wellenlänge' #@param [\"Wellenlänge\", \"CD-Wert\", \"HT-Spannung\"]\n",
        "if(XWerte == 'Wellenlänge'):\n",
        "  xdata = wavelength\n",
        "elif(XWerte == 'CD-Wert'):\n",
        "  xdata = spec_cor\n",
        "else:\n",
        "  xdata = HTvoltage\n",
        "YWerte = 'Wellenlänge' #@param [\"Wellenlänge\", \"CD-Wert\", \"HT-Spannung\"]\n",
        "if(YWerte == 'Wellenlänge'):\n",
        "  ydata = wavelength\n",
        "elif(YWerte == 'CD-Wert'):\n",
        "  ydata = CDvalue\n",
        "else:\n",
        "  ydata = HTvoltage\n",
        "#@markdown Geben Sie dem Graphen einen Titel und entsprechende Achsenbeschriftungen. Vergessen Sie die Einheiten nicht.\n",
        "Graphtitel = '' #@param {type:\"string\"}\n",
        "XAchsenbeschriftung = '' #@param {type:\"string\"}\n",
        "YAchsenbeschriftung = '' #@param {type:\"string\"}\n",
        "#@markdown Überlegen Sie sich, in welchem X-Wertebereich eine Darstellung sinnvoll ist:\n",
        "XIntervallStart = None #@param {type:\"integer\"}\n",
        "XIntervallEnde = None #@param {type:\"integer\"}\n",
        "\n",
        "\n",
        "CD_Myoglob_25_Xvalues = xdata\n",
        "CD_Myoglob_25_Yvalues = ydata\n",
        "CD_Myoglob_25_Title = Graphtitel\n",
        "CD_Myoglob_25_XLabel = XAchsenbeschriftung\n",
        "CD_Myoglob_25_YLabel = YAchsenbeschriftung\n",
        "CD_Myoglob_25_XIntStart = XIntervallStart\n",
        "CD_Myoglob_25_XIntEnd = XIntervallEnde\n"
      ],
      "metadata": {
        "id": "kKSdcNQPctdr"
      },
      "execution_count": null,
      "outputs": []
    },
    {
      "cell_type": "code",
      "source": [
        "#@title Darstellung des CD-Spektrums\n",
        "\n",
        "plt.plot(CD_Myoglob_25_Xvalues, CD_Myoglob_25_Yvalues, color=\"black\")\n",
        "plt.title(CD_Myoglob_25_Title)\n",
        "plt.xlabel(CD_Myoglob_25_XLabel)\n",
        "plt.ylabel(CD_Myoglob_25_YLabel)\n",
        "plt.xlim(CD_Myoglob_25_XIntStart,CD_Myoglob_25_XIntEnd)\n",
        "\n",
        "plt.minorticks_on()\n",
        "\n",
        "plt.hlines(y=0.0, xmin=CD_Myoglob_25_XIntStart, xmax=CD_Myoglob_25_XIntEnd, linewidth=2, linestyle='dashed', color='b')\n",
        "\n",
        "plt.show()\n"
      ],
      "metadata": {
        "id": "e60MOvZHc8YU"
      },
      "execution_count": null,
      "outputs": []
    },
    {
      "cell_type": "code",
      "source": [
        "#@title Darstellungsoptionen für die Darstellung der HT-Spannung in Abhängigkeit von der Wellenlänge\n",
        "#@markdown Wählen Sie aus welche Daten sie darstellen möchten:\n",
        "XWerte = 'Wellenlänge' #@param [\"Wellenlänge\", \"CD-Wert\", \"HT-Spannung\"]\n",
        "if(XWerte == 'Wellenlänge'):\n",
        "  xdata = wavelength\n",
        "elif(XWerte == 'CD-Wert'):\n",
        "  xdata = spec_cor\n",
        "else:\n",
        "  xdata = HTvoltage\n",
        "YWerte = 'Wellenlänge' #@param [\"Wellenlänge\", \"CD-Wert\", \"HT-Spannung\"]\n",
        "if(YWerte == 'Wellenlänge'):\n",
        "  ydata = wavelength\n",
        "elif(YWerte == 'CD-Wert'):\n",
        "  ydata = CDvalue\n",
        "else:\n",
        "  ydata = HTvoltage\n",
        "#@markdown Geben Sie dem Graphen einen Titel und entsprechende Achsenbeschriftungen, vergessen Sie die Einheiten nicht.\n",
        "Graphtitel = '' #@param {type:\"string\"}\n",
        "XAchsenbeschriftung = '' #@param {type:\"string\"}\n",
        "YAchsenbeschriftung = '' #@param {type:\"string\"}\n",
        "#@markdown Überlegen Sie sich in welchem X-Wertebereich eine Darstellung sinnvoll ist:\n",
        "XIntervallStart = None #@param {type:\"integer\"}\n",
        "XIntervallEnde = None #@param {type:\"integer\"}\n",
        "\n",
        "HT_Myoglob_25_Xvalues = xdata\n",
        "HT_Myoglob_25_Yvalues = ydata\n",
        "HT_Myoglob_25_Title = Graphtitel\n",
        "HT_Myoglob_25_XLabel = XAchsenbeschriftung\n",
        "HT_Myoglob_25_YLabel = YAchsenbeschriftung\n",
        "HT_Myoglob_25_XIntStart = XIntervallStart\n",
        "HT_Myoglob_25_XIntEnd = XIntervallEnde\n"
      ],
      "metadata": {
        "id": "hTrQji90v8nm"
      },
      "execution_count": null,
      "outputs": []
    },
    {
      "cell_type": "code",
      "source": [
        "#@title Darstellung der HT-Spannung\n",
        "fig, axs = plt.subplots(2, sharex=True)\n",
        "#fig.suptitle('Vertically stacked subplots')\n",
        "axs[0].plot(CD_Myoglob_25_Xvalues, CD_Myoglob_25_Yvalues,color=\"black\")\n",
        "axs[1].plot(HT_Myoglob_25_Xvalues, HT_Myoglob_25_Yvalues,color=\"red\")\n",
        "\n",
        "axs[0].set_title(CD_Myoglob_25_Title)\n",
        "axs[1].set_title(HT_Myoglob_25_Title)\n",
        "\n",
        "axs[1].set_xlim([HT_Myoglob_25_XIntStart, HT_Myoglob_25_XIntEnd])\n",
        "\n",
        "axs[0].set(ylabel=CD_Myoglob_25_YLabel)\n",
        "axs[1].set(xlabel=HT_Myoglob_25_XLabel,ylabel=HT_Myoglob_25_YLabel)\n",
        "\n",
        "\n",
        "axs[0].minorticks_on()\n",
        "axs[1].minorticks_on()\n",
        "\n",
        "axs[0].axhline(y=0.5, linewidth=2, linestyle='dashed', color='b')\n",
        "\n",
        "plt.subplots_adjust(left=0.1,\n",
        "                    bottom=0.1,\n",
        "                    right=0.9,\n",
        "                    top=1.5,\n",
        "                    wspace=0.4,\n",
        "                    hspace=0.2)\n",
        "\n",
        "plt.tight_layout()\n",
        "plt.savefig('CD_Myoglobin_25dg_HT.png', dpi=300)\n",
        "\n"
      ],
      "metadata": {
        "id": "5tpqVUfjwaoi"
      },
      "execution_count": null,
      "outputs": []
    },
    {
      "cell_type": "code",
      "source": [
        "#@title Download des CD-Spektrums\n",
        "files.download('CD_Myoglobin_25dg_HT.png')"
      ],
      "metadata": {
        "id": "l6j8skNJwSkW"
      },
      "execution_count": null,
      "outputs": []
    },
    {
      "cell_type": "markdown",
      "source": [
        "#**Sekundärstrukturanalyse von Myoglobin bei 25 °C**"
      ],
      "metadata": {
        "id": "EpKL1Pms9hKm"
      }
    },
    {
      "cell_type": "code",
      "source": [
        "#@title Berechnung der **Mean Residue Ellipticity (MRE)**\n",
        "#@markdown Geben Sie das mittlere Residuengewicht in g/mol an:\n",
        "MRW_MRE = None #@param {type:\"number\"}\n",
        "#@markdown Geben Sie die Konzentration in g/l an:\n",
        "c_MRE = None #@param {type:\"number\"}\n",
        "#@markdown Geben Sie die Schichtdicke der Küvette in cm an:\n",
        "d_MRE = None #@param {type:\"number\"}\n",
        "#@markdown Geben Sie den Faktor an, welcher notwendig ist, um aus den aufgenommenen CD-Werten mit den anderen angegeben Größen auf die MRE in der Einheit $° \\cdot \\mathrm{cm}^2 \\cdot \\mathrm{dmol}^{-1}$ zu kommen:\n",
        "factor_MRE = None #@param {type:\"number\"}\n",
        "#@markdown Die benutzte Formel entspricht Formel 8 im Skript: $\\frac{\\mathrm{factor_{MRE}} \\cdot \\Theta(\\lambda) \\cdot \\mathrm{MRW_{MRE}}}{\\mathrm{c_{MRE}} \\cdot \\mathrm{d_{MRE}}}$\n",
        "\n",
        "#delta_Epsilon = (0.1 * MRW_MRE * CDvalue) / (c_MRE * d_MRE * 3298)\n",
        "#MRE = delta_Epsilon * 3298\n",
        "\n",
        "MRE = (factor_MRE * MRW_MRE * CD_Myoglob_25_Yvalues) / (c_MRE * d_MRE)\n",
        "\n",
        "#print(CDvalue[370])\n",
        "#print(delta_Epsilon[0])\n",
        "#print(MRE[370])"
      ],
      "metadata": {
        "id": "jcfLoIU7hyOg",
        "cellView": "form"
      },
      "execution_count": null,
      "outputs": []
    },
    {
      "cell_type": "code",
      "source": [
        "#@title Darstellung des MRE CD-Spektrums\n",
        "\n",
        "CD_Myoglob_25_MRE_Title =\"MRE-normiertes CD-Spektrum von Myoglobin bei 25 °C\"\n",
        "CD_Myoglob_25_MRE_YLabel=\"MRE / $\\\\frac{\\\\mathrm{°*cm^2}}{\\\\mathrm{dmol*residue}}$\"\n",
        "\n",
        "plt.plot(CD_Myoglob_25_Xvalues, MRE, color=\"black\")\n",
        "plt.title(CD_Myoglob_25_MRE_Title)\n",
        "plt.xlabel(CD_Myoglob_25_XLabel)\n",
        "plt.ylabel(CD_Myoglob_25_MRE_YLabel)\n",
        "plt.xlim(CD_Myoglob_25_XIntStart,CD_Myoglob_25_XIntEnd)\n",
        "\n",
        "plt.minorticks_on()\n",
        "\n",
        "plt.hlines(y=0.0, xmin=CD_Myoglob_25_XIntStart, xmax=CD_Myoglob_25_XIntEnd, linewidth=2, linestyle='dashed', color='b')\n",
        "\n",
        "plt.savefig('MRE_25.png', dpi=300)\n",
        "\n",
        "plt.show()"
      ],
      "metadata": {
        "id": "3iw2SqRgAWvQ",
        "cellView": "form"
      },
      "execution_count": null,
      "outputs": []
    },
    {
      "cell_type": "code",
      "source": [
        "#@title Download des MRE-CD-Spektrums\n",
        "files.download('MRE_25.png')"
      ],
      "metadata": {
        "id": "1lxk1cFhUx3D",
        "cellView": "form"
      },
      "execution_count": null,
      "outputs": []
    },
    {
      "cell_type": "code",
      "source": [
        "#@title Export und Download der MRE CD-Daten\n",
        "#@markdown Geben Sie der zu exportierenden Datei einen Namen:\n",
        "Exportname = 'Myoglobin_25deg_MRE_DichroWEB' #@param {type:\"string\"}\n",
        "Exportname = Exportname + '.txt'\n",
        "exportDataMat = np.array([CD_Myoglob_25_Xvalues, MRE])\n",
        "exportDataMat = exportDataMat.T\n",
        "headerJASCO = '\\n'.join([\"TITLE\", \"DATA TYPE\", \"ORIGIN\",\"OWNER\",\"DATE\",\"TIME\",\"SPECTROMETER/DATA SYSTEM\",\"RESOLUTION\",\"DELTAX\",\"XUNITS\",\"YUNITS\",\"1.000\",\"1.000\",\"FIRSTX\",\"LASTX\",\"NPOINTS\",\"FIRSTY\",\"MAXY\",\"MINY\"])\n",
        "np.savetxt(Exportname, exportDataMat, '%5.2f',delimiter = '\\t',header=headerJASCO)\n",
        "\n",
        "files.download(Exportname);\n",
        "#@markdown Die Datei wird möglicherweise zweimal heruntergeladen.\n"
      ],
      "metadata": {
        "id": "3a6v0lJvdMzE",
        "cellView": "form"
      },
      "execution_count": null,
      "outputs": []
    },
    {
      "cell_type": "markdown",
      "source": [
        "Gehen Sie als nächstes auf [DichroWeb](http://dichroweb.cryst.bbk.ac.uk/html/home.shtml).\n",
        "\n",
        "1.   Legen Sie einen User-Account über die Weiterleitung [Apply for a user-account](http://dichroweb.cryst.bbk.ac.uk/html/apply.shtml) an. Benutzen Sie Ihre Studenten-Email-Adresse! Sie sollten nun eine Email bekommen in der Ihnen **UserID** und **IDpassword** mitgeteilt wird.\n",
        "2.   Navigieren Sie nun über die linke Seite der Seite auf [Input Data](http://dichroweb.cryst.bbk.ac.uk/html/process.shtml)\n",
        "  *   Unter dem Punkt **Registration** geben Sie die Ihnen zugeschickten Anmeldedaten ein.\n",
        "  *   Unter **Input File Details** können Sie einen Namen (*Protein name*) z.B. Myoglobin eintragen und darunter (*File location*) die exportierten Daten auswählen.  \n",
        "  *   Unter dem Punkt **About the Data File**:\n",
        "       *   wählen Sie als *File Format* JASCO 1.30\n",
        "       *   für die *Input Units* mean residue ellipticity\n",
        "       *   die *Initial Wavelength (nm)* ist in unserem Falle die höchste Wellenlänge\n",
        "       *   die *Final Wavelength (nm)* ist hier die niedrigeste Wellenlänge\n",
        "       *   wählen Sie den richtigen *Wavelength Step (nm)* aus\n",
        "       *   als *Lowest nm datapoint to use in the analysis* benutzen sie die niedrigeste Wellenlänge\n",
        "  *   Unter dem Punkt **Choice of Methods** wählen Sie als *Analysis Programme* **K2D** und lassen Sie das *Reference Set* offen.\n",
        "  *   Den Punkt **Advanced Options** lassen Sie unangetastet.\n",
        "  *   Unter dem Punkt **Output Options** wählen Sie unter *Output Units* mean residue ellipticity\n",
        "  * Schicken Sie die Anfrage über einen Klick auf **submit** ab.\n",
        "  \n",
        "3.   Sehen Sie sich die *Compact Results* an indem Sie auf das *SHOW* darunter klicken. Notieren Sie sich die ausgegebenen Anteile für alpha-Helix, beta-Flatblatt und Zufallsknäuel. Notieren Sie auch den maximalen Fehler.\n",
        "4.   Wiederholen Sie die Eingabe unter [Input Data](http://dichroweb.cryst.bbk.ac.uk/html/process.shtml). Benutzen Sie diesmal **SELCON3** als *Analysis Programme* und wählen Sie als *Reference Set* Set 7 aus. Lassen Sie sich die *Compact Results* anzeigen und notieren Sie diese.\n",
        "5. Wo liegt der Unterschied zwischen den beiden Ergebnissen? Schauen Sie sich dazu auch [diese Seite](http://dichroweb.cryst.bbk.ac.uk/html/userguide_datasets.shtml) an.\n",
        "\n",
        "\n",
        "\n",
        "\n",
        "\n"
      ],
      "metadata": {
        "id": "RBtI8-3SejfN"
      }
    },
    {
      "cell_type": "markdown",
      "source": [
        "#**Bestimmung der Schmelztemperatur von Myoglobin**"
      ],
      "metadata": {
        "id": "XwFR1DApAF9u"
      }
    },
    {
      "cell_type": "code",
      "source": [
        "#@title Einladen der **Schmelzkurve** von Myoglobin\n",
        "meltingCurveUpload = files.upload()\n",
        "meltingCurveFileName = next(iter(meltingCurveUpload))"
      ],
      "metadata": {
        "id": "-DiqkUl1sHae"
      },
      "execution_count": null,
      "outputs": []
    },
    {
      "cell_type": "code",
      "source": [
        "#@title Herausschreiben der **Temperatur** mit den zugehörigen Werten für **CD** und die **HT-Spannung** jeweils bei 223 nm aus den *zuvor eingeladenen* .txt-Dateien\n",
        "import numpy as np\n",
        "# Text file data converted to float CD_data skipping the header (first 19 lines)\n",
        "MC_data = np.loadtxt(meltingCurveFileName, skiprows=19, dtype=float)\n",
        "MC_temperature = (MC_data[:,0])\n",
        "MC_CD = (MC_data[:,1])\n",
        "MC_HT = (MC_data[:,2])\n",
        "#print(MC_temperature)"
      ],
      "metadata": {
        "id": "Ve6CjzK1slJ3"
      },
      "execution_count": null,
      "outputs": []
    },
    {
      "cell_type": "code",
      "source": [
        "#@title Darstellungsoptionen für die Darstellung der Schmelzkurve von Myoglobin\n",
        "#@markdown Wählen Sie aus, welche Daten sie darstellen möchten:\n",
        "XWerte = 'Temperatur' #@param [\"Temperatur\", \"CD-Wert\", \"HT-Spannung\"]\n",
        "if(XWerte == 'Temperatur'):\n",
        "  xdata = MC_temperature\n",
        "elif(XWerte == 'CD-Wert'):\n",
        "  xdata = MC_CD\n",
        "else:\n",
        "  xdata = MC_HT\n",
        "YWerte = 'Temperatur' #@param [\"Temperatur\", \"CD-Wert\", \"HT-Spannung\"]\n",
        "if(YWerte == 'Temperatur'):\n",
        "  ydata = MC_temperature\n",
        "elif(YWerte == 'CD-Wert'):\n",
        "  ydata = MC_CD\n",
        "else:\n",
        "  ydata = MC_HT\n",
        "#@markdown Geben Sie dem Graphen einen Titel und entsprechende Achsenbeschriftungen. Vergessen Sie die Einheiten nicht.\n",
        "Graphtitel = '' #@param {type:\"string\"}\n",
        "XAchsenbeschriftung = '' #@param {type:\"string\"}\n",
        "YAchsenbeschriftung = '' #@param {type:\"string\"}\n",
        "#@markdown Überlegen Sie sich in welchem X-Wertebereich eine Darstellung sinnvoll ist:\n",
        "XIntervallStart = None #@param {type:\"integer\"}\n",
        "XIntervallEnde = None #@param {type:\"integer\"}\n",
        "\n",
        "\n",
        "MC_Myoglob_Xvalues = xdata\n",
        "MC_Myoglob_Yvalues = ydata\n",
        "MC_Myoglob_Title = Graphtitel\n",
        "MC_Myoglob_XLabel = XAchsenbeschriftung\n",
        "MC_Myoglob_YLabel = YAchsenbeschriftung\n",
        "MC_Myoglob_XIntStart = XIntervallStart\n",
        "MC_Myoglob_XIntEnd = XIntervallEnde\n"
      ],
      "metadata": {
        "id": "uwB6mH4_twzA"
      },
      "execution_count": null,
      "outputs": []
    },
    {
      "cell_type": "code",
      "source": [
        "#@title Darstellung der Schmelzkurve\n",
        "# importing the required module\n",
        "import matplotlib.pyplot as plt\n",
        "\n",
        "plt.scatter(MC_Myoglob_Xvalues, MC_Myoglob_Yvalues, color=\"black\")\n",
        "plt.title(MC_Myoglob_Title)\n",
        "plt.xlabel(MC_Myoglob_XLabel)\n",
        "plt.ylabel(MC_Myoglob_YLabel)\n",
        "plt.xlim(MC_Myoglob_XIntStart,MC_Myoglob_XIntEnd)\n",
        "\n",
        "plt.minorticks_on()\n",
        "\n",
        "plt.show()\n"
      ],
      "metadata": {
        "id": "CpyImshcv7Jj"
      },
      "execution_count": null,
      "outputs": []
    },
    {
      "cell_type": "code",
      "source": [
        "#@title Sigmoidale Kurvenanpassung der Schmelzkurve\n",
        "#@markdown Bevor die Übergangstemperatur bestimmt werden kann, müssen die Datenpunkte angepasst werden. Hierzu bietet sich eine sigmoidale Kurvenanpassung an.\n",
        "from scipy.optimize import curve_fit\n",
        "\n",
        "\n",
        "def sigmoid(x, L ,x0, k, b):\n",
        "    y = L / (1 + np.exp(-k*(x-x0))) + b\n",
        "    return (y)\n",
        "\n",
        "p0 = [max(MC_Myoglob_Yvalues), np.median(MC_Myoglob_Xvalues),1,min(MC_Myoglob_Yvalues)] # initial guess\n",
        "popt, pcov = curve_fit(sigmoid, MC_Myoglob_Xvalues, MC_Myoglob_Yvalues, p0, method='dogbox')\n",
        "\n",
        "plt.scatter(MC_Myoglob_Xvalues, MC_Myoglob_Yvalues, color=\"black\", label=\"Übergangskurve\")\n",
        "\n",
        "x_sigmoidal = np.linspace(np.min(MC_Myoglob_Xvalues), np.max(MC_Myoglob_Xvalues))\n",
        "y_sigmoidal = sigmoid(x_sigmoidal, *popt)\n",
        "\n",
        "\n",
        "plt.plot(x_sigmoidal, y_sigmoidal, linestyle='dotted', color='red', label=\"Kurvenanpassung\")\n",
        "\n",
        "plt.title(MC_Myoglob_Title)\n",
        "plt.xlabel(MC_Myoglob_XLabel)\n",
        "plt.ylabel(MC_Myoglob_YLabel)\n",
        "plt.xlim(MC_Myoglob_XIntStart,MC_Myoglob_XIntEnd)\n",
        "plt.legend()\n",
        "\n",
        "plt.minorticks_on()\n",
        "\n",
        "plt.savefig('Myoglobin_tr.png', dpi=300)\n",
        "\n",
        "plt.show()\n"
      ],
      "metadata": {
        "id": "SpuHKJ9YCarZ"
      },
      "execution_count": null,
      "outputs": []
    },
    {
      "cell_type": "code",
      "source": [
        "#@title Download der Schmelzkurve\n",
        "files.download('Myoglobin_tr.png')"
      ],
      "metadata": {
        "id": "q7kdLQOrWPd1"
      },
      "execution_count": null,
      "outputs": []
    },
    {
      "cell_type": "code",
      "source": [
        "from re import X\n",
        "#@title Bestimmung der Schmelztemperatur\n",
        "#@markdown Aus der sigmoidalen Kurvenanpassung, bzw. deren Ableitung, kann nun die Schmelztemperatur ermittelt werden.\n",
        "\n",
        "processedData = np.gradient(y_sigmoidal)\n",
        "\n",
        "#@markdown Welcher Punkt der 1. Ableitung entspricht der Schmelztemperatur?\n",
        "TM = 'Minimum' #@param [\"Minimum\", \"Maximum\"]\n",
        "if(TM == 'Minimum'):\n",
        "  tm = x_sigmoidal[np.argmin(processedData)]\n",
        "else:\n",
        "  tm = x_sigmoidal[np.argmax(processedData)]\n",
        "\n",
        "plt.plot(x_sigmoidal, processedData, color=\"black\", label=\"1. Ableitung\")\n",
        "\n",
        "plt.xlabel(MC_Myoglob_XLabel)\n",
        "plt.ylabel('1. Ableitung')\n",
        "plt.xlim(MC_Myoglob_XIntStart,MC_Myoglob_XIntEnd)\n",
        "\n",
        "plt.minorticks_on()\n",
        "plt.axvline(x = tm, color = 'b', linestyle='dashed',label = 'Schmelztemperatur')\n",
        "\n",
        "plt.legend()\n",
        "\n",
        "plt.savefig('Myoglobin_TM.png', dpi=300)\n",
        "plt.show()\n",
        "\n",
        "print(\"Die Schmelztemperatur liegt bei: \"+str(tm) + \" °C\")"
      ],
      "metadata": {
        "id": "5LmuydCSybjJ"
      },
      "execution_count": null,
      "outputs": []
    },
    {
      "cell_type": "code",
      "source": [
        "#@title Download der 1. Ableitung der sigmoidalen Kurvenanpassung der Schmelzkurve\n",
        "files.download('Myoglobin_TM.png')"
      ],
      "metadata": {
        "id": "xpCm9JsKXfPR"
      },
      "execution_count": null,
      "outputs": []
    },
    {
      "cell_type": "markdown",
      "source": [
        "#**Vergleich der Myoglobin CD-Spektren bei unterschiedlichen Temperaturen**"
      ],
      "metadata": {
        "id": "TX0MWmKLA962"
      }
    },
    {
      "cell_type": "code",
      "source": [
        "#@title Einladen des **Protein-CD-Spektrums bei 75 °C**\n",
        "CD75Upload = files.upload()\n",
        "CD75FileName = next(iter(CD75Upload))"
      ],
      "metadata": {
        "id": "0hdQcF_NNOyb",
        "cellView": "form"
      },
      "execution_count": null,
      "outputs": []
    },
    {
      "cell_type": "code",
      "source": [
        "#@title Einladen des **Protein-CD-Spektrums bei 95 °C**\n",
        "CD90Upload = files.upload()\n",
        "CD90FileName = next(iter(CD90Upload))"
      ],
      "metadata": {
        "id": "Cn4sartUesOA",
        "cellView": "form"
      },
      "execution_count": null,
      "outputs": []
    },
    {
      "cell_type": "code",
      "source": [
        "#@title Herausschreiben der **Wellenlänge** mit den zugehörigen Werten für **CD** und die **HT-Spannung** aus den *zuvor eingeladenen* .txt-Dateien\n",
        "# Text file data converted to float CD_data skipping the header (first 19 lines)\n",
        "CD_data_75 = np.loadtxt(CD75FileName, skiprows=19, dtype=float)\n",
        "wavelength_75 = (CD_data_75[:,0])\n",
        "CDvalue_75  = (CD_data_75[:,1])\n",
        "HTvoltage_75  = (CD_data_75[:,2])\n",
        "# Text file data converted to float CD_data skipping the header (first 19 lines)\n",
        "CD_data_90 = np.loadtxt(CD90FileName, skiprows=19, dtype=float)\n",
        "wavelength_90 = (CD_data_90[:,0])\n",
        "CDvalue_90 = (CD_data_90[:,1])\n",
        "HTvoltage_90 = (CD_data_90[:,2])\n"
      ],
      "metadata": {
        "id": "caJ_BbYIfRPm",
        "cellView": "form"
      },
      "execution_count": null,
      "outputs": []
    },
    {
      "cell_type": "code",
      "source": [
        "#@title **Korrektur der Spektren**\n",
        "BufferCorr_25 = CDvalue - CDvalue_b\n",
        "BufferCorr_75 = CDvalue_75 - CDvalue_b\n",
        "BufferCorr_90 = CDvalue_90 - CDvalue_b\n"
      ],
      "metadata": {
        "id": "3mMb8ODhC2zu",
        "cellView": "form"
      },
      "execution_count": null,
      "outputs": []
    },
    {
      "cell_type": "code",
      "source": [
        "#@title Vergleichende Darstellung der Myoglobinspektren bei 25 °C, 75 °C und 95 °C\n",
        "\n",
        "Graphtitel = '' #@param {type:\"string\"}\n",
        "XAchsenbeschriftung = '' #@param {type:\"string\"}\n",
        "YAchsenbeschriftung = '' #@param {type:\"string\"}\n",
        "XIntervallStart = None #@param {type:\"integer\"}\n",
        "XIntervallEnde = None #@param {type:\"integer\"}\n",
        "\n",
        "\n",
        "Title_25_75_90 = Graphtitel\n",
        "XLabel_25_75_90 = XAchsenbeschriftung\n",
        "YLabel_25_75_90 = YAchsenbeschriftung\n",
        "XIntStart_25_75_90  = XIntervallStart\n",
        "XIntEnd_25_75_90  = XIntervallEnde\n",
        "\n",
        "fig, axs = plt.subplots(2, sharex=True)\n",
        "#fig.suptitle('Vertically stacked subplots')\n",
        "axs[0].plot(wavelength, BufferCorr_25, color=\"black\", label=\"$T_1 = 25 \\\\mathrm{°C}$\")\n",
        "axs[0].plot(wavelength_75, BufferCorr_75, linestyle='dashed', color=\"blue\", label=\"$T_2 = 75 \\\\mathrm{°C}$\")\n",
        "axs[0].plot(wavelength_90, BufferCorr_90, linestyle='dotted', color=\"red\", label=\"$T_3 = 95 \\\\mathrm{°C}$\")\n",
        "\n",
        "CD_25_75_diff = BufferCorr_25 - BufferCorr_75\n",
        "#CD_25_75_diff = np.square(CD_25_75_diff)\n",
        "#CD_25_75_diff = np.sqrt(CD_25_75_diff)\n",
        "axs[1].plot(wavelength_75, CD_25_75_diff, color=\"blue\", label=\"$CD_{T_1} - CD_{T_2}$\")\n",
        "\n",
        "CD_75_90_diff = BufferCorr_75 - BufferCorr_90\n",
        "#CD_75_90_diff = np.square(CD_75_90_diff)\n",
        "#CD_75_90_diff = np.sqrt(CD_75_90_diff)\n",
        "axs[1].plot(wavelength_90, CD_75_90_diff, color=\"red\", label=\"$CD_{T_2} - CD_{T_3}$\")\n",
        "\n",
        "\n",
        "axs[0].set_title(Title_25_75_90)\n",
        "#axs[1].set_title('Absolute Differenz der CD-Spektren')\n",
        "\n",
        "axs[1].set_xlim([XIntStart_25_75_90, XIntEnd_25_75_90])\n",
        "\n",
        "axs[0].set(ylabel=YLabel_25_75_90)\n",
        "axs[1].set(xlabel=XLabel_25_75_90,ylabel='CD-Differenz / mdeg')\n",
        "\n",
        "\n",
        "axs[0].minorticks_on()\n",
        "axs[1].minorticks_on()\n",
        "\n",
        "axs[0].axhline(y=0.5, linewidth=1, linestyle='dashed', color='black')\n",
        "axs[1].axhline(y=0.5, linewidth=1, linestyle='dashed', color='black')\n",
        "\n",
        "plt.subplots_adjust(left=0.1,\n",
        "                    bottom=0.1,\n",
        "                    right=0.9,\n",
        "                    top=1.5,\n",
        "                    wspace=0.4,\n",
        "                    hspace=0.2)\n",
        "\n",
        "axs[0].axvline(x = 223, color = 'g', linestyle='dashdot',label = '223 nm')\n",
        "axs[1].axvline(x = 223, color = 'g', linestyle='dashdot',label = '223 nm')\n",
        "\n",
        "axs[0].legend()\n",
        "axs[1].legend()\n",
        "\n",
        "plt.tight_layout()\n",
        "plt.savefig('CD_Myoglobin_25_75_95deg.png', dpi=300)\n",
        "\n",
        "plt.show()\n"
      ],
      "metadata": {
        "id": "qdS29Vj-g1nr",
        "cellView": "form"
      },
      "execution_count": null,
      "outputs": []
    },
    {
      "cell_type": "code",
      "source": [
        "#@title Download der CD-Spektren bei 25 °C, 75 °C und 95 °C sowie der Differenzspektren\n",
        "files.download('CD_Myoglobin_25_75_95deg.png')"
      ],
      "metadata": {
        "id": "-NO--Yrty-vj",
        "cellView": "form"
      },
      "execution_count": null,
      "outputs": []
    },
    {
      "cell_type": "markdown",
      "source": [
        "#**Vergleich der Sekundärstrukturen von Myoglobin bei 25 °C und 95 °C**"
      ],
      "metadata": {
        "id": "F3tICVE7EkhB"
      }
    },
    {
      "cell_type": "code",
      "source": [
        "#@title Herunterladen der Puffer-korrigierten CD-Spektren bei 25 °C und 95 °C\n",
        "Exportname_25_BESTSEL = 'Myoglobin_25deg_BESTSEL'\n",
        "Exportname_25 = Exportname_25_BESTSEL + '.txt'\n",
        "exportDataMat_25 = np.array([wavelength, BufferCorr_25])\n",
        "exportDataMat_25 = exportDataMat_25.T\n",
        "#headerJASCO = '\\n'.join([\"TITLE\", \"DATA TYPE\", \"ORIGIN\",\"OWNER\",\"DATE\",\"TIME\",\"SPECTROMETER/DATA SYSTEM\",\"RESOLUTION\",\"DELTAX\",\"XUNITS\",\"YUNITS\",\"1.000\",\"1.000\",\"FIRSTX\",\"LASTX\",\"NPOINTS\",\"FIRSTY\",\"MAXY\",\"MINY\"])\n",
        "np.savetxt(Exportname_25, exportDataMat_25, '%5.2f',delimiter = '\\t')\n",
        "\n",
        "files.download(Exportname_25);\n",
        "\n",
        "Exportname_90_BESTSEL = 'Myoglobin_95deg_BESTSEL'\n",
        "Exportname_90 = Exportname_90_BESTSEL + '.txt'\n",
        "exportDataMat_90 = np.array([wavelength, BufferCorr_90])\n",
        "exportDataMat_90 = exportDataMat_90.T\n",
        "#headerJASCO = '\\n'.join([\"TITLE\", \"DATA TYPE\", \"ORIGIN\",\"OWNER\",\"DATE\",\"TIME\",\"SPECTROMETER/DATA SYSTEM\",\"RESOLUTION\",\"DELTAX\",\"XUNITS\",\"YUNITS\",\"1.000\",\"1.000\",\"FIRSTX\",\"LASTX\",\"NPOINTS\",\"FIRSTY\",\"MAXY\",\"MINY\"])\n",
        "np.savetxt(Exportname_90, exportDataMat_90, '%5.2f',delimiter = '\\t')\n",
        "\n",
        "files.download(Exportname_90);\n"
      ],
      "metadata": {
        "id": "xMqq8ZUePEho",
        "cellView": "form"
      },
      "execution_count": null,
      "outputs": []
    },
    {
      "cell_type": "markdown",
      "source": [
        "Nach dem Download der CD-Spektren gehen Sie auf die [BESTSEL-Website](https://bestsel.elte.hu/index.php).\n",
        "\n",
        "Auf der rechten Seite befindet sich ein Dialog zum Einladen der Daten.\n",
        "\n",
        "1.   Legen Sie einen Namen fest, z.B. *Myo25* (Unterstriche u.Ä. sind nicht erlaubt).\n",
        "2.   Klicken Sie **Durchsuchen...** und wählen Sie zunächst die *zuvor heruntergeladenen Daten* mit dem Namen **'Myoglobin_25deg_BESTSEL.txt'** aus.\n",
        "3.   Wählen Sie unter **Input units:** bitte *measured ellipticity (mdeg)* aus.\n",
        "4.   Tragen Sie dann die Konzentration der Myoglobinprobe, die Anzahl der Aminosäuren (*Number of residues*) und die Schichtdicke (*Pathlength*) der Küvette ein.\n",
        "5.   Geben Sie den Bot-Check ein und klicken Sie auf *Submit*.\n",
        "\n",
        "Ihnen sollte nun auf der rechten Seite das CD-Spektrum mit Kurvenanpassung angezeigt werden.\n",
        "\n",
        "1.   Klicken Sie auf den Button **Calculate the secondary structure**, der sich unter dem Spektrum befindet.\n",
        "2.   Ihnen sollte nun eine Abschätzung der sekundären Strukturanteile angezeigt werden. Stellen Sie sicher, dass der Wellenlängenbereich (oben links) auf *190-250 nm* steht.\n",
        "3.   Speichern Sie das Resultat als Bild (über **Save image**) und als CSV (über **Download CSV**), beide Buttons befinden sich unterhalb der Diagramme in dem Kasten **Results format**.\n",
        "\n",
        "Wiederholen Sie das Vorgehen für die Datei **'Myoglobin_95deg_BESTSEL.txt'**"
      ],
      "metadata": {
        "id": "mFsSmfqeNiD_"
      }
    }
  ]
}