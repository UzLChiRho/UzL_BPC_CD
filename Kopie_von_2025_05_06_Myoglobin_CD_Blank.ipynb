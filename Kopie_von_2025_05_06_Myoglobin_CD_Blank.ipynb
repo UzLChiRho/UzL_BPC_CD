{
  "nbformat": 4,
  "nbformat_minor": 0,
  "metadata": {
    "colab": {
      "provenance": [],
      "collapsed_sections": [
        "Xk2x3X_18fEm",
        "xlmKofoIDJ6u",
        "rxfxbxZiCKXf",
        "EpKL1Pms9hKm",
        "XwFR1DApAF9u",
        "TX0MWmKLA962",
        "F3tICVE7EkhB"
      ]
    },
    "kernelspec": {
      "name": "python3",
      "display_name": "Python 3"
    },
    "language_info": {
      "name": "python"
    }
  },
  "cells": [
    {
      "cell_type": "markdown",
      "source": [
        "#**Import von Paketen**"
      ],
      "metadata": {
        "id": "Xk2x3X_18fEm"
      }
    },
    {
      "cell_type": "code",
      "source": [
        "#@title Einladen der notwendigen Pakete\n",
        "#@markdown Führen Sie die Zelle über den linken \"Play-Button\" aus um die notwendigen Packages für die Pythonscripte zu laden.\n",
        "#import the following for handling data in colab\n",
        "from google.colab import files\n",
        "#import numpy\n",
        "import numpy as np\n",
        "#import matplotlib\n",
        "import matplotlib.pyplot as plt\n",
        "import sys\n",
        "\n",
        "from scipy.optimize import curve_fit\n",
        "\n",
        "# Example data (replace this with your actual array)\n",
        "x = np.linspace(-10, 10, 100)\n",
        "data = np.exp(-(x - 2)**2 / (2 * 1.5**2)) + 0.1 * np.random.normal(size=x.size)\n",
        "\n",
        "# Define a Gaussian function\n",
        "def gaussian(x, amplitude, mean, stddev):\n",
        "    return amplitude * np.exp(-((x - mean) ** 2) / (2 * stddev ** 2))"
      ],
      "metadata": {
        "id": "b8bzQQ6_v9Du",
        "cellView": "form"
      },
      "execution_count": 46,
      "outputs": []
    },
    {
      "cell_type": "markdown",
      "source": [
        "#**Auswertung des UV-VIS-Spektrums von Myoglobin**"
      ],
      "metadata": {
        "id": "xlmKofoIDJ6u"
      }
    },
    {
      "cell_type": "code",
      "source": [
        "#@title Einladen des **UV-VIS-Spektrums von Myoglobin**\n",
        "#@markdown Führen Sie die Zelle über den linken \"Play-Button\" aus und wählen Sie \"Durchsuchen\" um das UV-VIS-Spektrum Ihrer Myoglobinprobe zu laden.\n",
        "uvvisUpload = files.upload()\n",
        "uvvisFileName = next(iter(uvvisUpload))\n"
      ],
      "metadata": {
        "id": "Abkkm0qzv7mO",
        "cellView": "form",
        "colab": {
          "base_uri": "https://localhost:8080/",
          "height": 74
        },
        "outputId": "1661c20e-3326-47e0-ea11-977429451edc"
      },
      "execution_count": 3,
      "outputs": [
        {
          "output_type": "display_data",
          "data": {
            "text/plain": [
              "<IPython.core.display.HTML object>"
            ],
            "text/html": [
              "\n",
              "     <input type=\"file\" id=\"files-4e2351e8-52ec-42a0-be3f-ce6b4edc7c0a\" name=\"files[]\" multiple disabled\n",
              "        style=\"border:none\" />\n",
              "     <output id=\"result-4e2351e8-52ec-42a0-be3f-ce6b4edc7c0a\">\n",
              "      Upload widget is only available when the cell has been executed in the\n",
              "      current browser session. Please rerun this cell to enable.\n",
              "      </output>\n",
              "      <script>// Copyright 2017 Google LLC\n",
              "//\n",
              "// Licensed under the Apache License, Version 2.0 (the \"License\");\n",
              "// you may not use this file except in compliance with the License.\n",
              "// You may obtain a copy of the License at\n",
              "//\n",
              "//      http://www.apache.org/licenses/LICENSE-2.0\n",
              "//\n",
              "// Unless required by applicable law or agreed to in writing, software\n",
              "// distributed under the License is distributed on an \"AS IS\" BASIS,\n",
              "// WITHOUT WARRANTIES OR CONDITIONS OF ANY KIND, either express or implied.\n",
              "// See the License for the specific language governing permissions and\n",
              "// limitations under the License.\n",
              "\n",
              "/**\n",
              " * @fileoverview Helpers for google.colab Python module.\n",
              " */\n",
              "(function(scope) {\n",
              "function span(text, styleAttributes = {}) {\n",
              "  const element = document.createElement('span');\n",
              "  element.textContent = text;\n",
              "  for (const key of Object.keys(styleAttributes)) {\n",
              "    element.style[key] = styleAttributes[key];\n",
              "  }\n",
              "  return element;\n",
              "}\n",
              "\n",
              "// Max number of bytes which will be uploaded at a time.\n",
              "const MAX_PAYLOAD_SIZE = 100 * 1024;\n",
              "\n",
              "function _uploadFiles(inputId, outputId) {\n",
              "  const steps = uploadFilesStep(inputId, outputId);\n",
              "  const outputElement = document.getElementById(outputId);\n",
              "  // Cache steps on the outputElement to make it available for the next call\n",
              "  // to uploadFilesContinue from Python.\n",
              "  outputElement.steps = steps;\n",
              "\n",
              "  return _uploadFilesContinue(outputId);\n",
              "}\n",
              "\n",
              "// This is roughly an async generator (not supported in the browser yet),\n",
              "// where there are multiple asynchronous steps and the Python side is going\n",
              "// to poll for completion of each step.\n",
              "// This uses a Promise to block the python side on completion of each step,\n",
              "// then passes the result of the previous step as the input to the next step.\n",
              "function _uploadFilesContinue(outputId) {\n",
              "  const outputElement = document.getElementById(outputId);\n",
              "  const steps = outputElement.steps;\n",
              "\n",
              "  const next = steps.next(outputElement.lastPromiseValue);\n",
              "  return Promise.resolve(next.value.promise).then((value) => {\n",
              "    // Cache the last promise value to make it available to the next\n",
              "    // step of the generator.\n",
              "    outputElement.lastPromiseValue = value;\n",
              "    return next.value.response;\n",
              "  });\n",
              "}\n",
              "\n",
              "/**\n",
              " * Generator function which is called between each async step of the upload\n",
              " * process.\n",
              " * @param {string} inputId Element ID of the input file picker element.\n",
              " * @param {string} outputId Element ID of the output display.\n",
              " * @return {!Iterable<!Object>} Iterable of next steps.\n",
              " */\n",
              "function* uploadFilesStep(inputId, outputId) {\n",
              "  const inputElement = document.getElementById(inputId);\n",
              "  inputElement.disabled = false;\n",
              "\n",
              "  const outputElement = document.getElementById(outputId);\n",
              "  outputElement.innerHTML = '';\n",
              "\n",
              "  const pickedPromise = new Promise((resolve) => {\n",
              "    inputElement.addEventListener('change', (e) => {\n",
              "      resolve(e.target.files);\n",
              "    });\n",
              "  });\n",
              "\n",
              "  const cancel = document.createElement('button');\n",
              "  inputElement.parentElement.appendChild(cancel);\n",
              "  cancel.textContent = 'Cancel upload';\n",
              "  const cancelPromise = new Promise((resolve) => {\n",
              "    cancel.onclick = () => {\n",
              "      resolve(null);\n",
              "    };\n",
              "  });\n",
              "\n",
              "  // Wait for the user to pick the files.\n",
              "  const files = yield {\n",
              "    promise: Promise.race([pickedPromise, cancelPromise]),\n",
              "    response: {\n",
              "      action: 'starting',\n",
              "    }\n",
              "  };\n",
              "\n",
              "  cancel.remove();\n",
              "\n",
              "  // Disable the input element since further picks are not allowed.\n",
              "  inputElement.disabled = true;\n",
              "\n",
              "  if (!files) {\n",
              "    return {\n",
              "      response: {\n",
              "        action: 'complete',\n",
              "      }\n",
              "    };\n",
              "  }\n",
              "\n",
              "  for (const file of files) {\n",
              "    const li = document.createElement('li');\n",
              "    li.append(span(file.name, {fontWeight: 'bold'}));\n",
              "    li.append(span(\n",
              "        `(${file.type || 'n/a'}) - ${file.size} bytes, ` +\n",
              "        `last modified: ${\n",
              "            file.lastModifiedDate ? file.lastModifiedDate.toLocaleDateString() :\n",
              "                                    'n/a'} - `));\n",
              "    const percent = span('0% done');\n",
              "    li.appendChild(percent);\n",
              "\n",
              "    outputElement.appendChild(li);\n",
              "\n",
              "    const fileDataPromise = new Promise((resolve) => {\n",
              "      const reader = new FileReader();\n",
              "      reader.onload = (e) => {\n",
              "        resolve(e.target.result);\n",
              "      };\n",
              "      reader.readAsArrayBuffer(file);\n",
              "    });\n",
              "    // Wait for the data to be ready.\n",
              "    let fileData = yield {\n",
              "      promise: fileDataPromise,\n",
              "      response: {\n",
              "        action: 'continue',\n",
              "      }\n",
              "    };\n",
              "\n",
              "    // Use a chunked sending to avoid message size limits. See b/62115660.\n",
              "    let position = 0;\n",
              "    do {\n",
              "      const length = Math.min(fileData.byteLength - position, MAX_PAYLOAD_SIZE);\n",
              "      const chunk = new Uint8Array(fileData, position, length);\n",
              "      position += length;\n",
              "\n",
              "      const base64 = btoa(String.fromCharCode.apply(null, chunk));\n",
              "      yield {\n",
              "        response: {\n",
              "          action: 'append',\n",
              "          file: file.name,\n",
              "          data: base64,\n",
              "        },\n",
              "      };\n",
              "\n",
              "      let percentDone = fileData.byteLength === 0 ?\n",
              "          100 :\n",
              "          Math.round((position / fileData.byteLength) * 100);\n",
              "      percent.textContent = `${percentDone}% done`;\n",
              "\n",
              "    } while (position < fileData.byteLength);\n",
              "  }\n",
              "\n",
              "  // All done.\n",
              "  yield {\n",
              "    response: {\n",
              "      action: 'complete',\n",
              "    }\n",
              "  };\n",
              "}\n",
              "\n",
              "scope.google = scope.google || {};\n",
              "scope.google.colab = scope.google.colab || {};\n",
              "scope.google.colab._files = {\n",
              "  _uploadFiles,\n",
              "  _uploadFilesContinue,\n",
              "};\n",
              "})(self);\n",
              "</script> "
            ]
          },
          "metadata": {}
        },
        {
          "output_type": "stream",
          "name": "stdout",
          "text": [
            "Saving Myo.ndv to Myo.ndv\n"
          ]
        }
      ]
    },
    {
      "cell_type": "code",
      "source": [
        "#@title Herausschreiben der UV-VIS-Daten\n",
        "with open(uvvisFileName, 'r') as f:\n",
        "    lines = f.readlines()\n",
        "    wl_row = lines[4].split('\\t')[14:]\n",
        "    wavelength = np.array(wl_row, dtype=float)\n",
        "#    print(wavelength)\n",
        "#    print(wavelength[1])\n",
        "\n",
        "\n",
        "with open(uvvisFileName, 'r') as f:\n",
        "    lines = f.readlines()\n",
        "    names = []\n",
        "    row = lines[5].split('\\t')[14:]\n",
        "    new_array = np.char.replace(row, \",\", \".\")\n",
        "    numOfElemts = new_array.size\n",
        "    data = np.zeros((len(lines)-5, numOfElemts))\n",
        "    for i in range(5, len(lines)):\n",
        "      name = lines[i].split('\\t')[0]\n",
        "      names.append(name)\n",
        "      row = lines[i].split('\\t')[14:]\n",
        "      new_array = np.char.replace(row, \",\", \".\")\n",
        "      data[i-5,:] = new_array\n"
      ],
      "metadata": {
        "id": "q99Z2B2bONwz",
        "cellView": "form"
      },
      "execution_count": 4,
      "outputs": []
    },
    {
      "cell_type": "code",
      "source": [
        "#@title Darstellen des Spektrums\n",
        "\n",
        "def find_nearest(array, value):\n",
        "    array = np.asarray(array)\n",
        "    idx = (np.abs(array - value)).argmin()\n",
        "    return array[idx]\n",
        "\n",
        "#@markdown Geben Sie die Wellenlänge (in nm) an, bei der auf die Proteinkonzentration geschlossen werden kann:\n",
        "Wellenlänge_UV_VIS = 280 #@param {type:\"integer\"}\n",
        "wl_select = find_nearest(wavelength, value=Wellenlänge_UV_VIS)\n",
        "wl_index = np.where(wavelength == wl_select)\n",
        "#@markdown Wählen Sie das anzuzeigende Spektrum (nur falls mehrere Spektren aufgenommen wurden relevant, default = 1)\n",
        "UV_VIS_Spektrum_num = 1 #@param {type:\"integer\"}\n",
        "UV_VIS_spec_num = UV_VIS_Spektrum_num - 1\n",
        "\n",
        "Achsenbeschriftung_X =  'Wellenlänge / nm' #@param {type:\"string\"}\n",
        "Achsenbeschriftung_Y = 'Absorbance / A.U.' #@param {type:\"string\"}\n",
        "\n",
        "plt.plot(wavelength, data[UV_VIS_spec_num,:], color=\"black\",label = names[UV_VIS_spec_num])\n",
        "plt.axvline(x = Wellenlänge_UV_VIS, color = 'r', linestyle='dashed',label = 'Wellenlänge: '+ str(wl_select) + \" nm\")\n",
        "plt.xlim(250,700)\n",
        "plt.xlabel(Achsenbeschriftung_X)\n",
        "plt.ylabel(Achsenbeschriftung_Y)\n",
        "\n",
        "plt.minorticks_on()\n",
        "\n",
        "plt.legend(prop={'size': 8})\n",
        "\n",
        "plt.savefig('UV_VIS.png', dpi=300)\n",
        "\n",
        "plt.show()\n",
        "\n",
        "abs = data[UV_VIS_spec_num,wl_index]\n",
        "print(\"Ausgewählte Wellenlänge (in nm):\")\n",
        "print(str(wl_select))\n",
        "print(Achsenbeschriftung_Y + \" bei \" + str(wl_select) + \" nm:\")\n",
        "print(str(data[UV_VIS_spec_num,wl_index]))\n"
      ],
      "metadata": {
        "id": "itX8hxywutBz",
        "colab": {
          "base_uri": "https://localhost:8080/",
          "height": 520
        },
        "outputId": "75c000e4-dd73-46bd-fea8-baf0c079540f"
      },
      "execution_count": 8,
      "outputs": [
        {
          "output_type": "display_data",
          "data": {
            "text/plain": [
              "<Figure size 640x480 with 1 Axes>"
            ],
            "image/png": "[encoded data removed]"
          },
          "metadata": {}
        },
        {
          "output_type": "stream",
          "name": "stdout",
          "text": [
            "Ausgewählte Wellenlänge (in nm):\n",
            "280.0\n",
            "Absorbance / A.U. bei 280.0 nm:\n",
            "[[0.113]]\n"
          ]
        }
      ]
    },
    {
      "cell_type": "code",
      "source": [
        "#@title Download des UV-VIS-Spektrums\n",
        "files.download('UV_VIS.png')"
      ],
      "metadata": {
        "id": "3m2JZJY8sc9R",
        "colab": {
          "base_uri": "https://localhost:8080/",
          "height": 17
        },
        "outputId": "096c1cfd-b908-41e4-d0eb-edbdd8151ea5"
      },
      "execution_count": 9,
      "outputs": [
        {
          "output_type": "display_data",
          "data": {
            "text/plain": [
              "<IPython.core.display.Javascript object>"
            ],
            "application/javascript": [
              "\n",
              "    async function download(id, filename, size) {\n",
              "      if (!google.colab.kernel.accessAllowed) {\n",
              "        return;\n",
              "      }\n",
              "      const div = document.createElement('div');\n",
              "      const label = document.createElement('label');\n",
              "      label.textContent = `Downloading \"${filename}\": `;\n",
              "      div.appendChild(label);\n",
              "      const progress = document.createElement('progress');\n",
              "      progress.max = size;\n",
              "      div.appendChild(progress);\n",
              "      document.body.appendChild(div);\n",
              "\n",
              "      const buffers = [];\n",
              "      let downloaded = 0;\n",
              "\n",
              "      const channel = await google.colab.kernel.comms.open(id);\n",
              "      // Send a message to notify the kernel that we're ready.\n",
              "      channel.send({})\n",
              "\n",
              "      for await (const message of channel.messages) {\n",
              "        // Send a message to notify the kernel that we're ready.\n",
              "        channel.send({})\n",
              "        if (message.buffers) {\n",
              "          for (const buffer of message.buffers) {\n",
              "            buffers.push(buffer);\n",
              "            downloaded += buffer.byteLength;\n",
              "            progress.value = downloaded;\n",
              "          }\n",
              "        }\n",
              "      }\n",
              "      const blob = new Blob(buffers, {type: 'application/binary'});\n",
              "      const a = document.createElement('a');\n",
              "      a.href = window.URL.createObjectURL(blob);\n",
              "      a.download = filename;\n",
              "      div.appendChild(a);\n",
              "      a.click();\n",
              "      div.remove();\n",
              "    }\n",
              "  "
            ]
          },
          "metadata": {}
        },
        {
          "output_type": "display_data",
          "data": {
            "text/plain": [
              "<IPython.core.display.Javascript object>"
            ],
            "application/javascript": [
              "download(\"download_4c32f894-eb7e-4856-8373-6b99a03c09ec\", \"UV_VIS.png\", 106499)"
            ]
          },
          "metadata": {}
        }
      ]
    },
    {
      "cell_type": "markdown",
      "source": [
        "#**Auswertung des CD-Spektrums von Myoglobin bei 25 °C**"
      ],
      "metadata": {
        "id": "rxfxbxZiCKXf"
      }
    },
    {
      "cell_type": "code",
      "execution_count": null,
      "metadata": {
        "id": "XEg1tY91Z7b9",
        "cellView": "form"
      },
      "outputs": [],
      "source": [
        "#@title Einladen des **CD-Pufferspektrums**\n",
        "#@markdown Führen Sie die Zelle über den linken \"Play-Button\" aus und wählen Sie \"Durchsuchen\" um das CD-Spektrum Ihrer Puffermessung zu laden.\n",
        "bufferUpload = files.upload()\n",
        "bufferFileName = next(iter(bufferUpload))\n"
      ]
    },
    {
      "cell_type": "code",
      "source": [
        "#@title Einladen des **Protein-CD-Spektrums**\n",
        "#@markdown Führen Sie die Zelle über den linken \"Play-Button\" aus und wählen Sie \"Durchsuchen\" um das CD-Spektrum des Myoglobins bei 25 °C zu laden.\n",
        "#from google.colab import files\n",
        "CDUpload = files.upload()\n",
        "CDFileName = next(iter(CDUpload))"
      ],
      "metadata": {
        "id": "icmbNNd2aSBl",
        "cellView": "form"
      },
      "execution_count": null,
      "outputs": []
    },
    {
      "cell_type": "code",
      "source": [
        "#@title Herausschreiben der **Wellenlänge** mit den zugehörigen Werten für **CD** und die **HT-Spannung** aus den *zuvor eingeladenen* .txt-Dateien\n",
        "# Text file data converted to float CD_data skipping the header (first 19 lines)\n",
        "Buffer_data = np.loadtxt(bufferFileName, skiprows=19, dtype=float)\n",
        "wavelength_b = (Buffer_data[:,0])\n",
        "CDvalue_b = (Buffer_data[:,1])\n",
        "HTvoltage_b = (Buffer_data[:,2])\n",
        "# Text file data converted to float CD_data skipping the header (first 19 lines)\n",
        "CD_data = np.loadtxt(CDFileName, skiprows=19, dtype=float)\n",
        "wavelength = (CD_data[:,0])\n",
        "CDvalue = (CD_data[:,1])\n",
        "HTvoltage = (CD_data[:,2])\n"
      ],
      "metadata": {
        "id": "YbxKjLDzagXb",
        "cellView": "form"
      },
      "execution_count": 20,
      "outputs": []
    },
    {
      "cell_type": "code",
      "source": [
        "#@title Korrektur des Protein-CD-Spektrums\n",
        "#@markdown Wie würden sie das aufgenommene Protein-CD-Spektrum mithilfe des Pufferspektrums korrigieren?\n",
        "Spektrum1 = 'Protein-CD-Spektrum' #@param [\"Protein-CD-Spektrum\", \"Pufferspektrum\"]\n",
        "if(Spektrum1 == 'Protein-CD-Spektrum'):\n",
        "  spec_one = CDvalue\n",
        "else:\n",
        "  spec_one = CDvalue_b\n",
        "\n",
        "Operator = '+'#@param [\"+\", \"-\", \"*\", \":\"]\n",
        "\n",
        "Spektrum2 = 'Protein-CD-Spektrum' #@param [\"Protein-CD-Spektrum\", \"Pufferspektrum\"]\n",
        "if(Spektrum2 == 'Protein-CD-Spektrum'):\n",
        "  spec_two = CDvalue\n",
        "else:\n",
        "  spec_two = CDvalue_b\n",
        "\n",
        "if(Operator == '+'):\n",
        "  spec_cor = spec_one + spec_two\n",
        "elif(Operator == '+'):\n",
        "  spec_cor = spec_one - spec_two\n",
        "elif(Operator == '+'):\n",
        "  spec_cor = spec_one * spec_two\n",
        "else:\n",
        "    spec_cor = spec_one / spec_two\n",
        "\n",
        "corOutputString = 'Ihre ausgwählte Spektrenkorrektur lautet: ' + Spektrum1 + ' '+Operator + ' ' + Spektrum2\n",
        "print(corOutputString)\n"
      ],
      "metadata": {
        "id": "Ikvd02y3atLG",
        "cellView": "form"
      },
      "execution_count": null,
      "outputs": []
    },
    {
      "cell_type": "code",
      "source": [
        "#@title Darstellungsoptionen für die Darstellung des CD-Spektrums von Myoglobin\n",
        "#@markdown Wählen Sie aus, welche Daten sie darstellen möchten:\n",
        "XWerte = 'Wellenlänge' #@param [\"Wellenlänge\", \"CD-Wert\", \"HT-Spannung\"]\n",
        "if(XWerte == 'Wellenlänge'):\n",
        "  xdata = wavelength\n",
        "elif(XWerte == 'CD-Wert'):\n",
        "  xdata = spec_cor\n",
        "else:\n",
        "  xdata = HTvoltage\n",
        "YWerte = 'Wellenlänge' #@param [\"Wellenlänge\", \"CD-Wert\", \"HT-Spannung\"]\n",
        "if(YWerte == 'Wellenlänge'):\n",
        "  ydata = wavelength\n",
        "elif(YWerte == 'CD-Wert'):\n",
        "  ydata = CDvalue\n",
        "else:\n",
        "  ydata = HTvoltage\n",
        "#@markdown Geben Sie dem Graphen einen Titel und entsprechende Achsenbeschriftungen. Vergessen Sie die Einheiten nicht.\n",
        "Graphtitel = '' #@param {type:\"string\"}\n",
        "XAchsenbeschriftung = '' #@param {type:\"string\"}\n",
        "YAchsenbeschriftung = '' #@param {type:\"string\"}\n",
        "#@markdown Überlegen Sie sich, in welchem X-Wertebereich eine Darstellung sinnvoll ist:\n",
        "XIntervallStart = None #@param {type:\"integer\"}\n",
        "XIntervallEnde = None #@param {type:\"integer\"}\n",
        "\n",
        "\n",
        "CD_Myoglob_25_Xvalues = xdata\n",
        "CD_Myoglob_25_Yvalues = ydata\n",
        "CD_Myoglob_25_Title = Graphtitel\n",
        "CD_Myoglob_25_XLabel = XAchsenbeschriftung\n",
        "CD_Myoglob_25_YLabel = YAchsenbeschriftung\n",
        "CD_Myoglob_25_XIntStart = XIntervallStart\n",
        "CD_Myoglob_25_XIntEnd = XIntervallEnde\n"
      ],
      "metadata": {
        "id": "kKSdcNQPctdr",
        "cellView": "form"
      },
      "execution_count": 22,
      "outputs": []
    },
    {
      "cell_type": "code",
      "source": [
        "#@title Darstellung des CD-Spektrums\n",
        "\n",
        "plt.plot(CD_Myoglob_25_Xvalues, CD_Myoglob_25_Yvalues, color=\"black\")\n",
        "plt.title(CD_Myoglob_25_Title)\n",
        "plt.xlabel(CD_Myoglob_25_XLabel)\n",
        "plt.ylabel(CD_Myoglob_25_YLabel)\n",
        "plt.xlim(CD_Myoglob_25_XIntStart,CD_Myoglob_25_XIntEnd)\n",
        "\n",
        "plt.minorticks_on()\n",
        "\n",
        "plt.hlines(y=0.0, xmin=CD_Myoglob_25_XIntStart, xmax=CD_Myoglob_25_XIntEnd, linewidth=2, linestyle='dashed', color='b')\n",
        "\n",
        "plt.show()\n"
      ],
      "metadata": {
        "id": "e60MOvZHc8YU",
        "cellView": "form"
      },
      "execution_count": null,
      "outputs": []
    },
    {
      "cell_type": "code",
      "source": [
        "#@title Darstellungsoptionen für die Darstellung der HT-Spannung in Abhängigkeit von der Wellenlänge\n",
        "#@markdown Wählen Sie aus welche Daten sie darstellen möchten:\n",
        "XWerte = 'Wellenlänge' #@param [\"Wellenlänge\", \"CD-Wert\", \"HT-Spannung\"]\n",
        "if(XWerte == 'Wellenlänge'):\n",
        "  xdata = wavelength\n",
        "elif(XWerte == 'CD-Wert'):\n",
        "  xdata = spec_cor\n",
        "else:\n",
        "  xdata = HTvoltage\n",
        "YWerte = 'Wellenlänge' #@param [\"Wellenlänge\", \"CD-Wert\", \"HT-Spannung\"]\n",
        "if(YWerte == 'Wellenlänge'):\n",
        "  ydata = wavelength\n",
        "elif(YWerte == 'CD-Wert'):\n",
        "  ydata = CDvalue\n",
        "else:\n",
        "  ydata = HTvoltage\n",
        "#@markdown Geben Sie dem Graphen einen Titel und entsprechende Achsenbeschriftungen, vergessen Sie die Einheiten nicht.\n",
        "Graphtitel = '' #@param {type:\"string\"}\n",
        "XAchsenbeschriftung = '' #@param {type:\"string\"}\n",
        "YAchsenbeschriftung = '' #@param {type:\"string\"}\n",
        "#@markdown Überlegen Sie sich in welchem X-Wertebereich eine Darstellung sinnvoll ist:\n",
        "XIntervallStart = None #@param {type:\"integer\"}\n",
        "XIntervallEnde = None #@param {type:\"integer\"}\n",
        "\n",
        "HT_Myoglob_25_Xvalues = xdata\n",
        "HT_Myoglob_25_Yvalues = ydata\n",
        "HT_Myoglob_25_Title = Graphtitel\n",
        "HT_Myoglob_25_XLabel = XAchsenbeschriftung\n",
        "HT_Myoglob_25_YLabel = YAchsenbeschriftung\n",
        "HT_Myoglob_25_XIntStart = XIntervallStart\n",
        "HT_Myoglob_25_XIntEnd = XIntervallEnde\n"
      ],
      "metadata": {
        "id": "hTrQji90v8nm",
        "cellView": "form"
      },
      "execution_count": 27,
      "outputs": []
    },
    {
      "cell_type": "code",
      "source": [
        "#@title Darstellung der HT-Spannung\n",
        "fig, axs = plt.subplots(2, sharex=True)\n",
        "#fig.suptitle('Vertically stacked subplots')\n",
        "axs[0].plot(CD_Myoglob_25_Xvalues, CD_Myoglob_25_Yvalues,color=\"black\")\n",
        "axs[1].plot(HT_Myoglob_25_Xvalues, HT_Myoglob_25_Yvalues,color=\"red\")\n",
        "\n",
        "axs[0].set_title(CD_Myoglob_25_Title)\n",
        "axs[1].set_title(HT_Myoglob_25_Title)\n",
        "\n",
        "axs[1].set_xlim([HT_Myoglob_25_XIntStart, HT_Myoglob_25_XIntEnd])\n",
        "\n",
        "axs[0].set(ylabel=CD_Myoglob_25_YLabel)\n",
        "axs[1].set(xlabel=HT_Myoglob_25_XLabel,ylabel=HT_Myoglob_25_YLabel)\n",
        "\n",
        "\n",
        "axs[0].minorticks_on()\n",
        "axs[1].minorticks_on()\n",
        "\n",
        "axs[0].axhline(y=0.5, linewidth=2, linestyle='dashed', color='b')\n",
        "\n",
        "plt.subplots_adjust(left=0.1,\n",
        "                    bottom=0.1,\n",
        "                    right=0.9,\n",
        "                    top=1.5,\n",
        "                    wspace=0.4,\n",
        "                    hspace=0.2)\n",
        "\n",
        "plt.tight_layout()\n",
        "plt.savefig('CD_Myoglobin_25dg_HT.png', dpi=300)\n",
        "\n"
      ],
      "metadata": {
        "id": "5tpqVUfjwaoi",
        "cellView": "form"
      },
      "execution_count": null,
      "outputs": []
    },
    {
      "cell_type": "code",
      "source": [
        "#@title Download des CD-Spektrums\n",
        "files.download('CD_Myoglobin_25dg_HT.png')"
      ],
      "metadata": {
        "id": "l6j8skNJwSkW",
        "cellView": "form"
      },
      "execution_count": null,
      "outputs": []
    },
    {
      "cell_type": "markdown",
      "source": [
        "#**Sekundärstrukturanalyse von Myoglobin bei 25 °C**"
      ],
      "metadata": {
        "id": "EpKL1Pms9hKm"
      }
    },
    {
      "cell_type": "code",
      "source": [
        "#@title Berechnung der **Mean Residue Ellipticity (MRE)**\n",
        "#@markdown Geben Sie das mittlere Residuengewicht in g/mol an:\n",
        "MRW_MRE = None #@param {type:\"number\"}\n",
        "#@markdown Geben Sie die Konzentration in g/l an:\n",
        "c_MRE = None #@param {type:\"number\"}\n",
        "#@markdown Geben Sie die Schichtdicke der Küvette in cm an:\n",
        "d_MRE = None #@param {type:\"number\"}\n",
        "#@markdown Geben Sie den Faktor an, welcher notwendig ist, um aus den aufgenommenen CD-Werten mit den anderen angegeben Größen auf die MRE in der Einheit $° \\cdot \\mathrm{cm}^2 \\cdot \\mathrm{dmol}^{-1}$ zu kommen:\n",
        "factor_MRE = None #@param {type:\"number\"}\n",
        "#@markdown Die benutzte Formel entspricht Formel 8 im Skript: $\\frac{\\mathrm{factor_{MRE}} \\cdot \\Theta(\\lambda) \\cdot \\mathrm{MRW_{MRE}}}{\\mathrm{c_{MRE}} \\cdot \\mathrm{d_{MRE}}}$\n",
        "\n",
        "#delta_Epsilon = (0.1 * MRW_MRE * CDvalue) / (c_MRE * d_MRE * 3298)\n",
        "#MRE = delta_Epsilon * 3298\n",
        "\n",
        "MRE = (factor_MRE * MRW_MRE * CD_Myoglob_25_Yvalues) / (c_MRE * d_MRE)\n",
        "\n",
        "#print(CDvalue[370])\n",
        "#print(delta_Epsilon[0])\n",
        "#print(MRE[370])"
      ],
      "metadata": {
        "id": "jcfLoIU7hyOg",
        "cellView": "form"
      },
      "execution_count": 32,
      "outputs": []
    },
    {
      "cell_type": "code",
      "source": [
        "#@title Darstellung des MRE CD-Spektrums\n",
        "\n",
        "CD_Myoglob_25_MRE_Title =\"MRE-normiertes CD-Spektrum von Myoglobin bei 25 °C\"\n",
        "CD_Myoglob_25_MRE_YLabel=\"MRE / $\\\\frac{\\\\mathrm{°*cm^2}}{\\\\mathrm{dmol*residue}}$\"\n",
        "\n",
        "plt.plot(CD_Myoglob_25_Xvalues, MRE, color=\"black\")\n",
        "plt.title(CD_Myoglob_25_MRE_Title)\n",
        "plt.xlabel(CD_Myoglob_25_XLabel)\n",
        "plt.ylabel(CD_Myoglob_25_MRE_YLabel)\n",
        "plt.xlim(CD_Myoglob_25_XIntStart,CD_Myoglob_25_XIntEnd)\n",
        "\n",
        "plt.minorticks_on()\n",
        "\n",
        "plt.hlines(y=0.0, xmin=CD_Myoglob_25_XIntStart, xmax=CD_Myoglob_25_XIntEnd, linewidth=2, linestyle='dashed', color='b')\n",
        "\n",
        "plt.savefig('MRE_25.png', dpi=300)\n",
        "\n",
        "plt.show()"
      ],
      "metadata": {
        "id": "3iw2SqRgAWvQ",
        "cellView": "form"
      },
      "execution_count": null,
      "outputs": []
    },
    {
      "cell_type": "code",
      "source": [
        "#@title Download des MRE-CD-Spektrums\n",
        "files.download('MRE_25.png')"
      ],
      "metadata": {
        "id": "1lxk1cFhUx3D",
        "cellView": "form"
      },
      "execution_count": null,
      "outputs": []
    },
    {
      "cell_type": "code",
      "source": [
        "#@title Export und Download der MRE CD-Daten\n",
        "#@markdown Geben Sie der zu exportierenden Datei einen Namen:\n",
        "Exportname = 'Myoglobin_25deg_MRE_DichroWEB' #@param {type:\"string\"}\n",
        "Exportname = Exportname + '.txt'\n",
        "exportDataMat = np.array([CD_Myoglob_25_Xvalues, MRE])\n",
        "exportDataMat = exportDataMat.T\n",
        "headerJASCO = '\\n'.join([\"TITLE\", \"DATA TYPE\", \"ORIGIN\",\"OWNER\",\"DATE\",\"TIME\",\"SPECTROMETER/DATA SYSTEM\",\"RESOLUTION\",\"DELTAX\",\"XUNITS\",\"YUNITS\",\"1.000\",\"1.000\",\"FIRSTX\",\"LASTX\",\"NPOINTS\",\"FIRSTY\",\"MAXY\",\"MINY\"])\n",
        "np.savetxt(Exportname, exportDataMat, '%5.2f',delimiter = '\\t',header=headerJASCO)\n",
        "\n",
        "files.download(Exportname);\n",
        "#@markdown Die Datei wird möglicherweise zweimal heruntergeladen.\n"
      ],
      "metadata": {
        "id": "3a6v0lJvdMzE",
        "cellView": "form"
      },
      "execution_count": null,
      "outputs": []
    },
    {
      "cell_type": "markdown",
      "source": [
        "Gehen Sie als nächstes auf [DichroWeb](http://dichroweb.cryst.bbk.ac.uk/html/home.shtml).\n",
        "\n",
        "1.   Legen Sie einen User-Account über die Weiterleitung [Apply for a user-account](http://dichroweb.cryst.bbk.ac.uk/html/apply.shtml) an. Benutzen Sie Ihre Studenten-Email-Adresse! Sie sollten nun eine Email bekommen in der Ihnen **UserID** und **IDpassword** mitgeteilt wird.\n",
        "2.   Navigieren Sie nun über die linke Seite der Seite auf [Input Data](http://dichroweb.cryst.bbk.ac.uk/html/process.shtml)\n",
        "  *   Unter dem Punkt **Registration** geben Sie die Ihnen zugeschickten Anmeldedaten ein.\n",
        "  *   Unter **Input File Details** können Sie einen Namen (*Protein name*) z.B. Myoglobin eintragen und darunter (*File location*) die exportierten Daten auswählen.  \n",
        "  *   Unter dem Punkt **About the Data File**:\n",
        "       *   wählen Sie als *File Format* JASCO 1.30\n",
        "       *   für die *Input Units* mean residue ellipticity\n",
        "       *   die *Initial Wavelength (nm)* ist in unserem Falle die höchste Wellenlänge\n",
        "       *   die *Final Wavelength (nm)* ist hier die niedrigeste Wellenlänge\n",
        "       *   wählen Sie den richtigen *Wavelength Step (nm)* aus\n",
        "       *   als *Lowest nm datapoint to use in the analysis* benutzen sie die niedrigeste Wellenlänge\n",
        "  *   Unter dem Punkt **Choice of Methods** wählen Sie als *Analysis Programme* **K2D** und lassen Sie das *Reference Set* offen.\n",
        "  *   Den Punkt **Advanced Options** lassen Sie unangetastet.\n",
        "  *   Unter dem Punkt **Output Options** wählen Sie unter *Output Units* mean residue ellipticity\n",
        "  * Schicken Sie die Anfrage über einen Klick auf **submit** ab.\n",
        "  \n",
        "3.   Sehen Sie sich die *Compact Results* an indem Sie auf das *SHOW* darunter klicken. Notieren Sie sich die ausgegebenen Anteile für alpha-Helix, beta-Flatblatt und Zufallsknäuel. Notieren Sie auch den maximalen Fehler.\n",
        "4.   Wiederholen Sie die Eingabe unter [Input Data](http://dichroweb.cryst.bbk.ac.uk/html/process.shtml). Benutzen Sie diesmal **SELCON3** als *Analysis Programme* und wählen Sie als *Reference Set* Set 7 aus. Lassen Sie sich die *Compact Results* anzeigen und notieren Sie diese.\n",
        "5. Wo liegt der Unterschied zwischen den beiden Ergebnissen? Schauen Sie sich dazu auch [diese Seite](http://dichroweb.cryst.bbk.ac.uk/html/userguide_datasets.shtml) an.\n",
        "\n",
        "\n",
        "\n",
        "\n",
        "\n"
      ],
      "metadata": {
        "id": "RBtI8-3SejfN"
      }
    },
    {
      "cell_type": "markdown",
      "source": [
        "#**Bestimmung der Schmelztemperatur von Myoglobin**"
      ],
      "metadata": {
        "id": "XwFR1DApAF9u"
      }
    },
    {
      "cell_type": "code",
      "source": [
        "#@title Einladen der **Schmelzkurve** von Myoglobin\n",
        "meltingCurveUpload = files.upload()\n",
        "meltingCurveFileName = next(iter(meltingCurveUpload))"
      ],
      "metadata": {
        "id": "-DiqkUl1sHae",
        "cellView": "form"
      },
      "execution_count": null,
      "outputs": []
    },
    {
      "cell_type": "code",
      "source": [
        "#@title Herausschreiben der **Temperatur** mit den zugehörigen Werten für **CD** und die **HT-Spannung** jeweils bei 223 nm aus den *zuvor eingeladenen* .txt-Dateien\n",
        "import numpy as np\n",
        "# Text file data converted to float CD_data skipping the header (first 19 lines)\n",
        "MC_data = np.loadtxt(meltingCurveFileName, skiprows=19, dtype=float)\n",
        "MC_temperature = (MC_data[:,0])\n",
        "MC_CD = (MC_data[:,1])\n",
        "MC_HT = (MC_data[:,2])\n",
        "#print(MC_temperature)"
      ],
      "metadata": {
        "id": "Ve6CjzK1slJ3",
        "cellView": "form"
      },
      "execution_count": 37,
      "outputs": []
    },
    {
      "cell_type": "code",
      "source": [
        "#@title Darstellungsoptionen für die Darstellung der Schmelzkurve von Myoglobin\n",
        "#@markdown Wählen Sie aus, welche Daten sie darstellen möchten:\n",
        "XWerte = 'Temperatur' #@param [\"Temperatur\", \"CD-Wert\", \"HT-Spannung\"]\n",
        "if(XWerte == 'Temperatur'):\n",
        "  xdata = MC_temperature\n",
        "elif(XWerte == 'CD-Wert'):\n",
        "  xdata = MC_CD\n",
        "else:\n",
        "  xdata = MC_HT\n",
        "YWerte = 'Temperatur' #@param [\"Temperatur\", \"CD-Wert\", \"HT-Spannung\"]\n",
        "if(YWerte == 'Temperatur'):\n",
        "  ydata = MC_temperature\n",
        "elif(YWerte == 'CD-Wert'):\n",
        "  ydata = MC_CD\n",
        "else:\n",
        "  ydata = MC_HT\n",
        "#@markdown Geben Sie dem Graphen einen Titel und entsprechende Achsenbeschriftungen. Vergessen Sie die Einheiten nicht.\n",
        "Graphtitel = '' #@param {type:\"string\"}\n",
        "XAchsenbeschriftung = '' #@param {type:\"string\"}\n",
        "YAchsenbeschriftung = '' #@param {type:\"string\"}\n",
        "#@markdown Überlegen Sie sich in welchem X-Wertebereich eine Darstellung sinnvoll ist:\n",
        "XIntervallStart = None #@param {type:\"integer\"}\n",
        "XIntervallEnde = None #@param {type:\"integer\"}\n",
        "\n",
        "\n",
        "MC_Myoglob_Xvalues = xdata\n",
        "MC_Myoglob_Yvalues = ydata\n",
        "MC_Myoglob_Title = Graphtitel\n",
        "MC_Myoglob_XLabel = XAchsenbeschriftung\n",
        "MC_Myoglob_YLabel = YAchsenbeschriftung\n",
        "MC_Myoglob_XIntStart = XIntervallStart\n",
        "MC_Myoglob_XIntEnd = XIntervallEnde\n"
      ],
      "metadata": {
        "id": "uwB6mH4_twzA",
        "cellView": "form"
      },
      "execution_count": 38,
      "outputs": []
    },
    {
      "cell_type": "code",
      "source": [
        "#@title Darstellung der Schmelzkurve\n",
        "# importing the required module\n",
        "import matplotlib.pyplot as plt\n",
        "\n",
        "plt.scatter(MC_Myoglob_Xvalues, MC_Myoglob_Yvalues, color=\"black\")\n",
        "plt.title(MC_Myoglob_Title)\n",
        "plt.xlabel(MC_Myoglob_XLabel)\n",
        "plt.ylabel(MC_Myoglob_YLabel)\n",
        "plt.xlim(MC_Myoglob_XIntStart,MC_Myoglob_XIntEnd)\n",
        "\n",
        "plt.minorticks_on()\n",
        "\n",
        "plt.show()\n"
      ],
      "metadata": {
        "id": "CpyImshcv7Jj",
        "cellView": "form"
      },
      "execution_count": null,
      "outputs": []
    },
    {
      "cell_type": "code",
      "source": [
        "#@title Sigmoidale Kurvenanpassung der Schmelzkurve\n",
        "#@markdown Bevor die Übergangstemperatur bestimmt werden kann, müssen die Datenpunkte angepasst werden. Hierzu bietet sich eine sigmoidale Kurvenanpassung an.\n",
        "from scipy.optimize import curve_fit\n",
        "\n",
        "\n",
        "def sigmoid(x, L ,x0, k, b):\n",
        "    y = L / (1 + np.exp(-k*(x-x0))) + b\n",
        "    return (y)\n",
        "\n",
        "p0 = [max(MC_Myoglob_Yvalues), np.median(MC_Myoglob_Xvalues),1,min(MC_Myoglob_Yvalues)] # initial guess\n",
        "popt, pcov = curve_fit(sigmoid, MC_Myoglob_Xvalues, MC_Myoglob_Yvalues, p0, method='dogbox')\n",
        "\n",
        "plt.scatter(MC_Myoglob_Xvalues, MC_Myoglob_Yvalues, color=\"black\", label=\"Übergangskurve\")\n",
        "\n",
        "x_sigmoidal = np.linspace(np.min(MC_Myoglob_Xvalues), np.max(MC_Myoglob_Xvalues))\n",
        "y_sigmoidal = sigmoid(x_sigmoidal, *popt)\n",
        "\n",
        "\n",
        "plt.plot(x_sigmoidal, y_sigmoidal, linestyle='dotted', color='red', label=\"Kurvenanpassung\")\n",
        "\n",
        "plt.title(MC_Myoglob_Title)\n",
        "plt.xlabel(MC_Myoglob_XLabel)\n",
        "plt.ylabel(MC_Myoglob_YLabel)\n",
        "plt.xlim(MC_Myoglob_XIntStart,MC_Myoglob_XIntEnd)\n",
        "plt.legend()\n",
        "\n",
        "plt.minorticks_on()\n",
        "\n",
        "plt.savefig('Myoglobin_tr.png', dpi=300)\n",
        "\n",
        "plt.show()\n"
      ],
      "metadata": {
        "id": "SpuHKJ9YCarZ",
        "cellView": "form"
      },
      "execution_count": null,
      "outputs": []
    },
    {
      "cell_type": "code",
      "source": [
        "#@title Download der Schmelzkurve\n",
        "files.download('Myoglobin_tr.png')"
      ],
      "metadata": {
        "id": "q7kdLQOrWPd1",
        "cellView": "form"
      },
      "execution_count": null,
      "outputs": []
    },
    {
      "cell_type": "code",
      "source": [
        "from re import X\n",
        "#@title Bestimmung der Schmelztemperatur\n",
        "# @markdown Aus der sigmoidalen Kurvenanpassung, bzw. deren Ableitung, kann nun die Schmelztemperatur ermittelt werden. Das Maximum der Ableitungsfuntkion entspricht hier der Übergangstemperatur.\n",
        "\n",
        "processedData = np.gradient(y_sigmoidal)\n",
        "\n",
        "#@markdown Die Ableitungsfunktion lässt sich durch eine Gaussfunktion annäheren. Dazu werden Schätzwerte für die Amplitude, das Zentrum (dh den Wendepunkt) und die Standardabweichung (korreliert mit der Breite der Gaussfunktion) benötigt.\n",
        "Amplitude = 0 #@param {type:\"number\"}\n",
        "Zentrum = 0 #@param {type:\"number\"}\n",
        "STD_dev = 0 #@param {type:\"number\"}\n",
        "\n",
        "# Initial guess for parameters: amplitude, mean, stddev\n",
        "initial_guess = [Amplitude, Zentrum, STD_dev]\n",
        "\n",
        "# Fit the Gaussian to the data\n",
        "params, _ = curve_fit(gaussian, x_sigmoidal, processedData, p0=initial_guess)\n",
        "\n",
        "# Extract the mean (center)\n",
        "amplitude, mean, stddev = params\n",
        "\n",
        "# Create subplots: 1 row, 2 columns\n",
        "fig, axes = plt.subplots(nrows=1, ncols=2, figsize=(12, 5))\n",
        "\n",
        "# left figure\n",
        "axes[0].plot(x_sigmoidal, processedData, color=\"black\", label=\"1. Ableitung\")\n",
        "# Plot the fitted Gaussian\n",
        "axes[0].plot(x_sigmoidal, gaussian(x_sigmoidal, *params), color=\"red\", label='Gauss-Fit', linestyle=':')\n",
        "\n",
        "axes[0].set_xlabel(MC_Myoglob_XLabel)\n",
        "axes[0].set_ylabel('1. Ableitung')\n",
        "axes[0].set_xlim(MC_Myoglob_XIntStart,MC_Myoglob_XIntEnd)\n",
        "\n",
        "axes[0].minorticks_on()\n",
        "axes[0].axvline(x = mean, color = 'b', linestyle='dashed',label = 'Schmelztemperatur')\n",
        "\n",
        "axes[0].legend()\n",
        "\n",
        "# right figure\n",
        "axes[1].scatter(MC_Myoglob_Xvalues, MC_Myoglob_Yvalues, color=\"black\", label=\"Übergangskurve\")\n",
        "axes[1].plot(x_sigmoidal, y_sigmoidal, color=\"red\", linestyle=':', label=\"Sigmoidal-Fit\")\n",
        "axes[1].axvline(x = mean, color = 'b', linestyle='dashed',label = 'Schmelztemperatur')\n",
        "\n",
        "axes[1].set_xlabel(MC_Myoglob_XLabel)\n",
        "axes[1].set_ylabel('CD / mdeg')\n",
        "axes[1].set_xlim(MC_Myoglob_XIntStart,MC_Myoglob_XIntEnd)\n",
        "\n",
        "axes[1].minorticks_on()\n",
        "axes[1].legend()\n",
        "\n",
        "plt.savefig('Myoglobin_TM.png', dpi=300)\n",
        "plt.show()\n",
        "rounded_mean = round(mean, 2)\n",
        "\n",
        "print(\"Die Schmelztemperatur liegt bei: \"+str(rounded_mean) + \" °C\")"
      ],
      "metadata": {
        "id": "5LmuydCSybjJ",
        "cellView": "form"
      },
      "execution_count": null,
      "outputs": []
    },
    {
      "cell_type": "code",
      "source": [
        "#@title Download der Abbildungen zur Ermittlung der Schmelztemperatur\n",
        "files.download('Myoglobin_TM.png')"
      ],
      "metadata": {
        "id": "xpCm9JsKXfPR",
        "cellView": "form"
      },
      "execution_count": null,
      "outputs": []
    },
    {
      "cell_type": "markdown",
      "source": [
        "#**Vergleich der Myoglobin CD-Spektren bei unterschiedlichen Temperaturen**"
      ],
      "metadata": {
        "id": "TX0MWmKLA962"
      }
    },
    {
      "cell_type": "code",
      "source": [
        "#@title Einladen des **Protein-CD-Spektrums bei 75 °C**\n",
        "CD75Upload = files.upload()\n",
        "CD75FileName = next(iter(CD75Upload))"
      ],
      "metadata": {
        "id": "0hdQcF_NNOyb",
        "cellView": "form"
      },
      "execution_count": null,
      "outputs": []
    },
    {
      "cell_type": "code",
      "source": [
        "#@title Einladen des **Protein-CD-Spektrums bei 95 °C**\n",
        "CD90Upload = files.upload()\n",
        "CD90FileName = next(iter(CD90Upload))"
      ],
      "metadata": {
        "id": "Cn4sartUesOA",
        "cellView": "form"
      },
      "execution_count": null,
      "outputs": []
    },
    {
      "cell_type": "code",
      "source": [
        "#@title Herausschreiben der **Wellenlänge** mit den zugehörigen Werten für **CD** und die **HT-Spannung** aus den *zuvor eingeladenen* .txt-Dateien\n",
        "# Text file data converted to float CD_data skipping the header (first 19 lines)\n",
        "CD_data_75 = np.loadtxt(CD75FileName, skiprows=19, dtype=float)\n",
        "wavelength_75 = (CD_data_75[:,0])\n",
        "CDvalue_75  = (CD_data_75[:,1])\n",
        "HTvoltage_75  = (CD_data_75[:,2])\n",
        "# Text file data converted to float CD_data skipping the header (first 19 lines)\n",
        "CD_data_90 = np.loadtxt(CD90FileName, skiprows=19, dtype=float)\n",
        "wavelength_90 = (CD_data_90[:,0])\n",
        "CDvalue_90 = (CD_data_90[:,1])\n",
        "HTvoltage_90 = (CD_data_90[:,2])\n"
      ],
      "metadata": {
        "id": "caJ_BbYIfRPm",
        "cellView": "form"
      },
      "execution_count": null,
      "outputs": []
    },
    {
      "cell_type": "code",
      "source": [
        "#@title **Korrektur der Spektren**\n",
        "BufferCorr_25 = CDvalue - CDvalue_b\n",
        "BufferCorr_75 = CDvalue_75 - CDvalue_b\n",
        "BufferCorr_90 = CDvalue_90 - CDvalue_b\n"
      ],
      "metadata": {
        "id": "3mMb8ODhC2zu",
        "cellView": "form"
      },
      "execution_count": null,
      "outputs": []
    },
    {
      "cell_type": "code",
      "source": [
        "#@title Vergleichende Darstellung der Myoglobinspektren bei 25 °C, 75 °C und 95 °C\n",
        "\n",
        "Graphtitel = '' #@param {type:\"string\"}\n",
        "XAchsenbeschriftung = '' #@param {type:\"string\"}\n",
        "YAchsenbeschriftung = '' #@param {type:\"string\"}\n",
        "XIntervallStart = None #@param {type:\"integer\"}\n",
        "XIntervallEnde = None #@param {type:\"integer\"}\n",
        "\n",
        "\n",
        "Title_25_75_90 = Graphtitel\n",
        "XLabel_25_75_90 = XAchsenbeschriftung\n",
        "YLabel_25_75_90 = YAchsenbeschriftung\n",
        "XIntStart_25_75_90  = XIntervallStart\n",
        "XIntEnd_25_75_90  = XIntervallEnde\n",
        "\n",
        "fig, axs = plt.subplots(2, sharex=True)\n",
        "#fig.suptitle('Vertically stacked subplots')\n",
        "axs[0].plot(wavelength, BufferCorr_25, color=\"black\", label=\"$T_1 = 25 \\\\mathrm{°C}$\")\n",
        "axs[0].plot(wavelength_75, BufferCorr_75, linestyle='dashed', color=\"blue\", label=\"$T_2 = 75 \\\\mathrm{°C}$\")\n",
        "axs[0].plot(wavelength_90, BufferCorr_90, linestyle='dotted', color=\"red\", label=\"$T_3 = 95 \\\\mathrm{°C}$\")\n",
        "\n",
        "CD_25_75_diff = BufferCorr_25 - BufferCorr_75\n",
        "#CD_25_75_diff = np.square(CD_25_75_diff)\n",
        "#CD_25_75_diff = np.sqrt(CD_25_75_diff)\n",
        "axs[1].plot(wavelength_75, CD_25_75_diff, color=\"blue\", label=\"$CD_{T_1} - CD_{T_2}$\")\n",
        "\n",
        "CD_75_90_diff = BufferCorr_75 - BufferCorr_90\n",
        "#CD_75_90_diff = np.square(CD_75_90_diff)\n",
        "#CD_75_90_diff = np.sqrt(CD_75_90_diff)\n",
        "axs[1].plot(wavelength_90, CD_75_90_diff, color=\"red\", label=\"$CD_{T_2} - CD_{T_3}$\")\n",
        "\n",
        "\n",
        "axs[0].set_title(Title_25_75_90)\n",
        "#axs[1].set_title('Absolute Differenz der CD-Spektren')\n",
        "\n",
        "axs[1].set_xlim([XIntStart_25_75_90, XIntEnd_25_75_90])\n",
        "\n",
        "axs[0].set(ylabel=YLabel_25_75_90)\n",
        "axs[1].set(xlabel=XLabel_25_75_90,ylabel='CD-Differenz / mdeg')\n",
        "\n",
        "\n",
        "axs[0].minorticks_on()\n",
        "axs[1].minorticks_on()\n",
        "\n",
        "axs[0].axhline(y=0.5, linewidth=1, linestyle='dashed', color='black')\n",
        "axs[1].axhline(y=0.5, linewidth=1, linestyle='dashed', color='black')\n",
        "\n",
        "plt.subplots_adjust(left=0.1,\n",
        "                    bottom=0.1,\n",
        "                    right=0.9,\n",
        "                    top=1.5,\n",
        "                    wspace=0.4,\n",
        "                    hspace=0.2)\n",
        "\n",
        "axs[0].axvline(x = 223, color = 'g', linestyle='dashdot',label = '223 nm')\n",
        "axs[1].axvline(x = 223, color = 'g', linestyle='dashdot',label = '223 nm')\n",
        "\n",
        "axs[0].legend()\n",
        "axs[1].legend()\n",
        "\n",
        "plt.tight_layout()\n",
        "plt.savefig('CD_Myoglobin_25_75_95deg.png', dpi=300)\n",
        "\n",
        "plt.show()\n"
      ],
      "metadata": {
        "id": "qdS29Vj-g1nr",
        "cellView": "form"
      },
      "execution_count": null,
      "outputs": []
    },
    {
      "cell_type": "code",
      "source": [
        "#@title Download der CD-Spektren bei 25 °C, 75 °C und 95 °C sowie der Differenzspektren\n",
        "files.download('CD_Myoglobin_25_75_95deg.png')"
      ],
      "metadata": {
        "id": "-NO--Yrty-vj",
        "cellView": "form"
      },
      "execution_count": null,
      "outputs": []
    },
    {
      "cell_type": "markdown",
      "source": [
        "#**Vergleich der Sekundärstrukturen von Myoglobin bei 25 °C und 95 °C**"
      ],
      "metadata": {
        "id": "F3tICVE7EkhB"
      }
    },
    {
      "cell_type": "code",
      "source": [
        "#@title Herunterladen der Puffer-korrigierten CD-Spektren bei 25 °C und 95 °C\n",
        "Exportname_25_BESTSEL = 'Myoglobin_25deg_BESTSEL'\n",
        "Exportname_25 = Exportname_25_BESTSEL + '.txt'\n",
        "exportDataMat_25 = np.array([wavelength, BufferCorr_25])\n",
        "exportDataMat_25 = exportDataMat_25.T\n",
        "#headerJASCO = '\\n'.join([\"TITLE\", \"DATA TYPE\", \"ORIGIN\",\"OWNER\",\"DATE\",\"TIME\",\"SPECTROMETER/DATA SYSTEM\",\"RESOLUTION\",\"DELTAX\",\"XUNITS\",\"YUNITS\",\"1.000\",\"1.000\",\"FIRSTX\",\"LASTX\",\"NPOINTS\",\"FIRSTY\",\"MAXY\",\"MINY\"])\n",
        "np.savetxt(Exportname_25, exportDataMat_25, '%5.2f',delimiter = '\\t')\n",
        "\n",
        "files.download(Exportname_25);\n",
        "\n",
        "Exportname_90_BESTSEL = 'Myoglobin_95deg_BESTSEL'\n",
        "Exportname_90 = Exportname_90_BESTSEL + '.txt'\n",
        "exportDataMat_90 = np.array([wavelength, BufferCorr_90])\n",
        "exportDataMat_90 = exportDataMat_90.T\n",
        "#headerJASCO = '\\n'.join([\"TITLE\", \"DATA TYPE\", \"ORIGIN\",\"OWNER\",\"DATE\",\"TIME\",\"SPECTROMETER/DATA SYSTEM\",\"RESOLUTION\",\"DELTAX\",\"XUNITS\",\"YUNITS\",\"1.000\",\"1.000\",\"FIRSTX\",\"LASTX\",\"NPOINTS\",\"FIRSTY\",\"MAXY\",\"MINY\"])\n",
        "np.savetxt(Exportname_90, exportDataMat_90, '%5.2f',delimiter = '\\t')\n",
        "\n",
        "files.download(Exportname_90);\n"
      ],
      "metadata": {
        "id": "xMqq8ZUePEho",
        "cellView": "form"
      },
      "execution_count": null,
      "outputs": []
    },
    {
      "cell_type": "markdown",
      "source": [
        "Nach dem Download der CD-Spektren gehen Sie auf die [BESTSEL-Website](https://bestsel.elte.hu/index.php).\n",
        "\n",
        "Auf der rechten Seite befindet sich ein Dialog zum Einladen der Daten.\n",
        "\n",
        "1.   Legen Sie einen Namen fest, z.B. *Myo25* (Unterstriche u.Ä. sind nicht erlaubt).\n",
        "2.   Klicken Sie **Durchsuchen...** und wählen Sie zunächst die *zuvor heruntergeladenen Daten* mit dem Namen **'Myoglobin_25deg_BESTSEL.txt'** aus.\n",
        "3.   Wählen Sie unter **Input units:** bitte *measured ellipticity (mdeg)* aus.\n",
        "4.   Tragen Sie dann die Konzentration der Myoglobinprobe, die Anzahl der Aminosäuren (*Number of residues*) und die Schichtdicke (*Pathlength*) der Küvette ein.\n",
        "5.   Geben Sie den Bot-Check ein und klicken Sie auf *Submit*.\n",
        "\n",
        "Ihnen sollte nun auf der rechten Seite das CD-Spektrum mit Kurvenanpassung angezeigt werden.\n",
        "\n",
        "1.   Klicken Sie auf den Button **Calculate the secondary structure**, der sich unter dem Spektrum befindet.\n",
        "2.   Ihnen sollte nun eine Abschätzung der sekundären Strukturanteile angezeigt werden. Stellen Sie sicher, dass der Wellenlängenbereich (oben links) auf *190-250 nm* steht.\n",
        "3.   Speichern Sie das Resultat als Bild (über **Save image**) und als CSV (über **Download CSV**), beide Buttons befinden sich unterhalb der Diagramme in dem Kasten **Results format**.\n",
        "\n",
        "Wiederholen Sie das Vorgehen für die Datei **'Myoglobin_95deg_BESTSEL.txt'**"
      ],
      "metadata": {
        "id": "mFsSmfqeNiD_"
      }
    }
  ]
}