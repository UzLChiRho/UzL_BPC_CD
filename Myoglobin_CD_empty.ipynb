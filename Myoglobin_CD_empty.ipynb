{
  "nbformat": 4,
  "nbformat_minor": 0,
  "metadata": {
    "colab": {
      "provenance": []
    },
    "kernelspec": {
      "name": "python3",
      "display_name": "Python 3"
    },
    "language_info": {
      "name": "python"
    }
  },
  "cells": [
    {
      "cell_type": "code",
      "source": [
        "#@title Einladen der notwendigen Pakete\n",
        "#@markdown Führen Sie die Zelle über den linken \"Play-Button\" aus um die notwendigen Packages für die Pythonscripte zu laden.\n",
        "#import the following for handling data in colab\n",
        "from google.colab import files\n",
        "#import numpy\n",
        "import numpy as np\n",
        "#import matplotlib\n",
        "import matplotlib.pyplot as plt"
      ],
      "metadata": {
        "id": "b8bzQQ6_v9Du"
      },
      "execution_count": null,
      "outputs": []
    },
    {
      "cell_type": "markdown",
      "source": [
        "#Auswertung des UV-VIS-Spektrums von Myoglobin"
      ],
      "metadata": {
        "id": "xlmKofoIDJ6u"
      }
    },
    {
      "cell_type": "code",
      "source": [
        "#@title Einladen des UV-VIS-Spektrums von Myogloin\n",
        "#@markdown Führen Sie die Zelle über den linken \"Play-Button\" aus und wählen Sie \"Durchsuchen\" um das UV-VIS-Spektrum Ihrer Myoglobinproba zu laden.\n",
        "uvvisUpload = files.upload()\n",
        "uvvisFileName = next(iter(uvvisUpload))\n"
      ],
      "metadata": {
        "id": "Abkkm0qzv7mO"
      },
      "execution_count": null,
      "outputs": []
    },
    {
      "cell_type": "code",
      "source": [
        "#@title Herausschreiben der UV-VIS-Daten\n",
        "with open(uvvisFileName, 'r') as f:\n",
        "    lines = f.readlines()\n",
        "    wl_row = lines[4].split('\\t')[14:]\n",
        "    wavelength = np.array(wl_row, dtype=float)\n",
        "#    print(wavelength)\n",
        "#    print(wavelength[1])    \n",
        "\n",
        "\n",
        "with open(uvvisFileName, 'r') as f:\n",
        "    lines = f.readlines()\n",
        "    names = []\n",
        "    row = lines[5].split('\\t')[14:]\n",
        "    new_array = np.char.replace(row, \",\", \".\")\n",
        "    numOfElemts = new_array.size\n",
        "    data = np.zeros((len(lines)-5, numOfElemts))\n",
        "    for i in range(5, len(lines)):\n",
        "      name = lines[i].split('\\t')[0]\n",
        "      names.append(name)      \n",
        "      row = lines[i].split('\\t')[14:]\n",
        "      new_array = np.char.replace(row, \",\", \".\")\n",
        "      data[i-5,:] = new_array\n"
      ],
      "metadata": {
        "id": "q99Z2B2bONwz"
      },
      "execution_count": null,
      "outputs": []
    },
    {
      "cell_type": "code",
      "source": [
        "#@title Darstellen des Spektrums\n",
        "#@markdown https://stackoverflow.com/questions/73481122/using-google-colab-forms-input-as-dropdown-can-i-put-the-read-file-and-add-on-t\n",
        "\n",
        "def find_nearest(array, value):\n",
        "    array = np.asarray(array)\n",
        "    idx = (np.abs(array - value)).argmin()\n",
        "    return array[idx]\n",
        "\n",
        "#@markdown Geben Sie die Wellenlänge (in nm) an bei der auf die Proteinkonzentration geschlossen werden kann:\n",
        "Wellenlänge_CD = 0 #@param {type:\"integer\"}\n",
        "wl_select = find_nearest(wavelength, value=Wellenlänge_CD)\n",
        "wl_index = np.where(wavelength == wl_select)\n",
        "Alle = True #@param {type:\"boolean\"}\n",
        "if (Alle):\n",
        "  Spektrenanzahl = len(names)\n",
        "\n",
        "Achsenbeschriftung_X =  '' #@param {type:\"string\"}\n",
        "Achsenbeschriftung_Y = '' #@param {type:\"string\"}\n",
        "\n",
        "plt.plot(wavelength, data[1,:], color=\"black\",label = names[1])\n",
        "plt.axvline(x = Wellenlänge_CD, color = 'r', linestyle='dashed',label = 'Wellenlänge der Konzentrationsbestimmung')\n",
        "plt.xlim(250,700)\n",
        "plt.xlabel(Achsenbeschriftung_X)\n",
        "plt.ylabel(Achsenbeschriftung_Y)\n",
        "\n",
        "plt.minorticks_on()\n",
        "\n",
        "plt.legend(prop={'size': 8})\n",
        "\n",
        "plt.savefig('UV_VIS.png', dpi=300)\n",
        "\n",
        "plt.show()\n",
        "\n",
        "abs = data[1,wl_index]\n",
        "print(\"Ausgewählte Wellenlänge (in nm):\")\n",
        "print(str(wl_select))\n",
        "print(Achsenbeschriftung_Y + \" bei \" + str(wl_select) + \" nm:\")\n",
        "print(str(data[1,wl_index]))\n"
      ],
      "metadata": {
        "id": "itX8hxywutBz"
      },
      "execution_count": null,
      "outputs": []
    },
    {
      "cell_type": "code",
      "source": [
        "#@title Download des UV-VIS-Spektrums\n",
        "files.download('UV_VIS.png')"
      ],
      "metadata": {
        "id": "3m2JZJY8sc9R"
      },
      "execution_count": null,
      "outputs": []
    },
    {
      "cell_type": "markdown",
      "source": [
        "#Auswertung des CD-Spektrums von Myoglobin bei 25 °C"
      ],
      "metadata": {
        "id": "rxfxbxZiCKXf"
      }
    },
    {
      "cell_type": "code",
      "execution_count": null,
      "metadata": {
        "id": "XEg1tY91Z7b9",
        "cellView": "form"
      },
      "outputs": [],
      "source": [
        "#@title Einladen des **CD-Pufferspektrum**\n",
        "#@markdown Führen Sie die Zelle über den linken \"Play-Button\" aus und wählen Sie \"Durchsuchen\" um das CD-Spektrum Ihrer Puffermessung zu laden.\n",
        "bufferUpload = files.upload()\n",
        "bufferFileName = next(iter(bufferUpload))\n"
      ]
    },
    {
      "cell_type": "code",
      "source": [
        "#@title Einladen des **Protein-CD-Spektrums**\n",
        "#@markdown Führen Sie die Zelle über den linken \"Play-Button\" aus und wählen Sie \"Durchsuchen\" um das CD-Spektrum des Myoglobins bei 25 °C zu laden.\n",
        "#from google.colab import files\n",
        "CDUpload = files.upload()\n",
        "CDFileName = next(iter(CDUpload))"
      ],
      "metadata": {
        "id": "icmbNNd2aSBl",
        "cellView": "form"
      },
      "execution_count": null,
      "outputs": []
    },
    {
      "cell_type": "code",
      "source": [
        "#@title Herausschreiben der **Wellenlänge** mit den zugehörigen Werten für **CD** und die **HT-Spannung** aus den *zuvor eingeladenen* .txt-Dateien\n",
        "# Text file data converted to float CD_data skipping the header (first 19 lines)\n",
        "Buffer_data = np.loadtxt(bufferFileName, skiprows=19, dtype=float)\n",
        "wavelength_b = (Buffer_data[:,0])\n",
        "CDvalue_b = (Buffer_data[:,1])\n",
        "HTvoltage_b = (Buffer_data[:,2])\n",
        "# Text file data converted to float CD_data skipping the header (first 19 lines)\n",
        "CD_data = np.loadtxt(CDFileName, skiprows=19, dtype=float)\n",
        "wavelength = (CD_data[:,0])\n",
        "CDvalue = (CD_data[:,1])\n",
        "HTvoltage = (CD_data[:,2])"
      ],
      "metadata": {
        "id": "YbxKjLDzagXb",
        "cellView": "form"
      },
      "execution_count": null,
      "outputs": []
    },
    {
      "cell_type": "code",
      "source": [
        "#@title Korrektur des Protein-CD-Spektrums\n",
        "#@markdown Wie würden sie das aufgenommene Protein-CD-Spektrums mithilfe des Pufferspektrums korrigieren?\n",
        "Spektrum1 = 'Pufferspektrum' #@param [\"Protein-CD-Spektrum\", \"Pufferspektrum\"]\n",
        "if(Spektrum1 == 'Protein-CD-Spektrum'):\n",
        "  spec_one = CDvalue\n",
        "else:\n",
        "  spec_one = CDvalue_b\n",
        "\n",
        "Operator = '+'#@param [\"+\", \"-\", \"*\", \":\"]\n",
        "\n",
        "Spektrum2 = 'Pufferspektrum' #@param [\"Protein-CD-Spektrum\", \"Pufferspektrum\"]\n",
        "if(Spektrum2 == 'Protein-CD-Spektrum'):\n",
        "  spec_two = CDvalue\n",
        "else:\n",
        "  spec_two = CDvalue_b\n",
        "\n",
        "if(Operator == '+'):\n",
        "  spec_cor = spec_one + spec_two\n",
        "elif(Operator == '+'):\n",
        "  spec_cor = spec_one - spec_two\n",
        "elif(Operator == '+'):\n",
        "  spec_cor = spec_one * spec_two\n",
        "else:\n",
        "    spec_cor = spec_one / spec_two\n",
        "\n",
        "corOutputString = 'Ihre ausgwählte Spektrenkorrektur lautet: ' + Spektrum1 + ' '+Operator + ' ' + Spektrum2\n",
        "print(corOutputString)\n"
      ],
      "metadata": {
        "id": "Ikvd02y3atLG"
      },
      "execution_count": null,
      "outputs": []
    },
    {
      "cell_type": "code",
      "source": [
        "#@title Darstellungsoptionen für die Darstellung des CD-Spektrums von Myoglobin\n",
        "#@markdown Wählen Sie aus welche Daten sie darstellen möchten:\n",
        "XWerte = 'Wellenlänge' #@param [\"Wellenlänge\", \"CD-Wert\", \"HT-Spannung\"]\n",
        "if(XWerte == 'Wellenlänge'):\n",
        "  xdata = wavelength\n",
        "elif(XWerte == 'CD-Wert'):\n",
        "  xdata = spec_cor\n",
        "else:\n",
        "  xdata = HTvoltage\n",
        "YWerte = 'Wellenl\\xE4nge' #@param [\"Wellenlänge\", \"CD-Wert\", \"HT-Spannung\"]\n",
        "if(YWerte == 'Wellenlänge'):\n",
        "  ydata = wavelength\n",
        "elif(YWerte == 'CD-Wert'):\n",
        "  ydata = CDvalue\n",
        "else:\n",
        "  ydata = HTvoltage\n",
        "#@markdown Geben Sie dem Graphen einen Titel und entsprechende Achsenbeschriftungen, vergessen Sie die Einheiten nicht.\n",
        "Graphtitel = '' #@param {type:\"string\"}\n",
        "XAchsenbeschriftung = '' #@param {type:\"string\"}\n",
        "YAchsenbeschriftung = '' #@param {type:\"string\"}\n",
        "#@markdown Überlegen Sie sich in welchem X-Wertebereich eine Darstellung sinnvoll ist:\n",
        "XIntervallStart = None #@param {type:\"integer\"}\n",
        "XIntervallEnde = None #@param {type:\"integer\"}\n",
        "\n",
        "\n",
        "CD_Myoglob_25_Xvalues = xdata\n",
        "CD_Myoglob_25_Yvalues = ydata\n",
        "CD_Myoglob_25_Title = Graphtitel\n",
        "CD_Myoglob_25_XLabel = XAchsenbeschriftung\n",
        "CD_Myoglob_25_YLabel = YAchsenbeschriftung\n",
        "CD_Myoglob_25_XIntStart = XIntervallStart\n",
        "CD_Myoglob_25_XIntEnd = XIntervallEnde\n"
      ],
      "metadata": {
        "id": "kKSdcNQPctdr",
        "cellView": "form"
      },
      "execution_count": null,
      "outputs": []
    },
    {
      "cell_type": "code",
      "source": [
        "#@title Darstellung des CD-Spektrums\n",
        "\n",
        "plt.plot(CD_Myoglob_25_Xvalues, CD_Myoglob_25_Yvalues, color=\"black\")\n",
        "plt.title(CD_Myoglob_25_Title)\n",
        "plt.xlabel(CD_Myoglob_25_XLabel)\n",
        "plt.ylabel(CD_Myoglob_25_YLabel)\n",
        "plt.xlim(CD_Myoglob_25_XIntStart,CD_Myoglob_25_XIntEnd)\n",
        "\n",
        "plt.minorticks_on()\n",
        "\n",
        "plt.hlines(y=0.0, xmin=CD_Myoglob_25_XIntStart, xmax=CD_Myoglob_25_XIntEnd, linewidth=2, linestyle='dashed', color='b')\n",
        "\n",
        "plt.show()\n"
      ],
      "metadata": {
        "id": "e60MOvZHc8YU"
      },
      "execution_count": null,
      "outputs": []
    },
    {
      "cell_type": "code",
      "source": [
        "#@title Darstellungsoptionen für die Darstellung der HT-Spannung in Abhängigkeit von der Wellenlänge\n",
        "#@markdown Wählen Sie aus welche Daten sie darstellen möchten:\n",
        "XWerte = 'Wellenlänge' #@param [\"Wellenlänge\", \"CD-Wert\", \"HT-Spannung\"]\n",
        "if(XWerte == 'Wellenlänge'):\n",
        "  xdata = wavelength\n",
        "elif(XWerte == 'CD-Wert'):\n",
        "  xdata = spec_cor\n",
        "else:\n",
        "  xdata = HTvoltage\n",
        "YWerte = 'Wellenl\\xE4nge' #@param [\"Wellenlänge\", \"CD-Wert\", \"HT-Spannung\"]\n",
        "if(YWerte == 'Wellenlänge'):\n",
        "  ydata = wavelength\n",
        "elif(YWerte == 'CD-Wert'):\n",
        "  ydata = CDvalue\n",
        "else:\n",
        "  ydata = HTvoltage\n",
        "#@markdown Geben Sie dem Graphen einen Titel und entsprechende Achsenbeschriftungen, vergessen Sie die Einheiten nicht.\n",
        "Graphtitel = '' #@param {type:\"string\"}\n",
        "XAchsenbeschriftung = '' #@param {type:\"string\"}\n",
        "YAchsenbeschriftung = '' #@param {type:\"string\"}\n",
        "#@markdown Überlegen Sie sich in welchem X-Wertebereich eine Darstellung sinnvoll ist:\n",
        "XIntervallStart = None #@param {type:\"integer\"}\n",
        "XIntervallEnde = None #@param {type:\"integer\"}\n",
        "\n",
        "HT_Myoglob_25_Xvalues = xdata\n",
        "HT_Myoglob_25_Yvalues = ydata\n",
        "HT_Myoglob_25_Title = Graphtitel\n",
        "HT_Myoglob_25_XLabel = XAchsenbeschriftung\n",
        "HT_Myoglob_25_YLabel = YAchsenbeschriftung\n",
        "HT_Myoglob_25_XIntStart = XIntervallStart\n",
        "HT_Myoglob_25_XIntEnd = XIntervallEnde\n"
      ],
      "metadata": {
        "id": "hTrQji90v8nm"
      },
      "execution_count": null,
      "outputs": []
    },
    {
      "cell_type": "code",
      "source": [
        "#@title Darstellung der HT-Spannung\n",
        "fig, axs = plt.subplots(2, sharex=True)\n",
        "#fig.suptitle('Vertically stacked subplots')\n",
        "axs[0].plot(CD_Myoglob_25_Xvalues, CD_Myoglob_25_Yvalues,color=\"black\")\n",
        "axs[1].plot(HT_Myoglob_25_Xvalues, HT_Myoglob_25_Yvalues,color=\"red\")\n",
        "\n",
        "axs[0].set_title(CD_Myoglob_25_Title)\n",
        "axs[1].set_title(HT_Myoglob_25_Title)\n",
        "\n",
        "axs[1].set_xlim([HT_Myoglob_25_XIntStart, HT_Myoglob_25_XIntEnd])\n",
        "\n",
        "axs[0].set(ylabel=CD_Myoglob_25_YLabel)\n",
        "axs[1].set(xlabel=HT_Myoglob_25_XLabel,ylabel=HT_Myoglob_25_YLabel)\n",
        "\n",
        "\n",
        "axs[0].minorticks_on()\n",
        "axs[1].minorticks_on()\n",
        "\n",
        "axs[0].axhline(y=0.5, linewidth=2, linestyle='dashed', color='b')\n",
        "\n",
        "plt.subplots_adjust(left=0.1,\n",
        "                    bottom=0.1,\n",
        "                    right=0.9,\n",
        "                    top=1.5,\n",
        "                    wspace=0.4,\n",
        "                    hspace=0.2)\n",
        "\n",
        "plt.savefig('CD_Myoglobin_25dg_HT.png', dpi=300)\n",
        "\n",
        "plt.show()\n",
        "\n"
      ],
      "metadata": {
        "id": "5tpqVUfjwaoi"
      },
      "execution_count": null,
      "outputs": []
    },
    {
      "cell_type": "code",
      "source": [
        "#@title Download des CD-Spektrums\n",
        "files.download('CD_Myoglobin_25dg_HT.png')"
      ],
      "metadata": {
        "id": "l6j8skNJwSkW"
      },
      "execution_count": null,
      "outputs": []
    },
    {
      "cell_type": "code",
      "source": [
        "#@title Berechnung der Mean Residue Ellipticity (MRE)\n",
        "#@markdown Geben Sie das mittlere Residuengewicht in g/mol an:\n",
        "MRW = None #@param {type:\"number\"}\n",
        "#@markdown Geben Sie die Konzentration in g/l an:\n",
        "c_MRE = None #@param {type:\"number\"}\n",
        "#@markdown Geben Sie die Schichtdicke der Küvette in cm an:\n",
        "d_MRE = None #@param {type:\"number\"}\n",
        "#@markdown Geben Sie den Faktor an, welcher notwendig ist um aus den aufgenommenen CD-Werten mit den anderen angegeben Größen auf die MRE in der Einheit $° \\cdot \\mathrm{cm}^2 \\cdot \\mathrm{dmol}^{-1}$ zu kommen:\n",
        "factor_MRE = None #@param {type:\"number\"}\n",
        "#@markdown Die benutzte Formel entspricht Formel 8 im Skript: $\\Theta(\\lambda)_{\\mathrm{MRE}}=\\frac{\\mathrm{factor_{MRE}} \\cdot \\Theta(\\lambda) \\cdot \\mathrm{MRW}}{\\mathrm{c_{MRE}} \\cdot \\mathrm{d_{MRE}}}$\n",
        "\n",
        "#delta_Epsilon = (0.1 * MRW_MRE * CDvalue) / (c_MRE * d_MRE * 3298)\n",
        "#MRE = delta_Epsilon * 3298\n",
        "\n",
        "MRE = (factor_MRE * MRW * CDvalue) / (c_MRE * d_MRE)\n",
        "\n",
        "print(CDvalue[0])\n",
        "#print(delta_Epsilon[0])\n",
        "print(MRE[0])\n"
      ],
      "metadata": {
        "id": "jcfLoIU7hyOg",
        "cellView": "form"
      },
      "execution_count": null,
      "outputs": []
    },
    {
      "cell_type": "code",
      "source": [
        "#@title Export der korrigierten Daten\n",
        "#@markdown Geben Sie der zu exportierenden Datei einen Namen: \n",
        "Exportname = '' #@param {type:\"string\"}\n",
        "Exportname = Exportname + '.txt'\n",
        "exportDataMat = np.array([CD_Myoglob_25_Xvalues, CD_Myoglob_25_Yvalues])\n",
        "exportDataMat = exportDataMat.T\n",
        "import sys\n",
        "np.savetxt(Exportname, exportDataMat, '%5.2f',delimiter = '\\t')\n"
      ],
      "metadata": {
        "id": "3a6v0lJvdMzE",
        "cellView": "form"
      },
      "execution_count": null,
      "outputs": []
    },
    {
      "cell_type": "code",
      "source": [
        "#@title Download der exportierten Daten\n",
        "\n",
        "files.download(Exportname); \n",
        "#@markdown Die Datei wird möglicherweise zweimal heruntergeladen.\n"
      ],
      "metadata": {
        "id": "cU2w0O-cdSR_",
        "cellView": "form"
      },
      "execution_count": null,
      "outputs": []
    },
    {
      "cell_type": "markdown",
      "source": [
        "Gehen Sie als nächstes auf [DichroWeb](http://dichroweb.cryst.bbk.ac.uk/html/home.shtml).\n",
        "\n",
        "1.   Legen Sie einen User-Account über die Weiterleitung [Apply for a user-account](http://dichroweb.cryst.bbk.ac.uk/html/apply.shtml) an. Benutzen Sie Ihre Studenten-Email-Adresse! Sie sollten nun eine Email bekommen in der Ihnen **UserID** und **IDpassword** mitgeteilt wird. \n",
        "2.   Navigieren Sie nun über die linke Seite der Seite auf [Input Data](http://dichroweb.cryst.bbk.ac.uk/html/process.shtml)\n",
        "  *   Unter dem Punkt **Registration** geben Sie die Ihnen zugeschickten Anmeldedaten ein.\n",
        "  *   Unter **Input File Details** können Sie einen Namen (*Protein name*) z.B. Myoglobin eintragen und darunter (*File location*) die exportierten Daten auswählen.  \n",
        "  *   Unter dem Punkt **About the Data File**:\n",
        "       *   wählen Sie als *File Format* JASCO 1.30\n",
        "       *   für die *Input Units* mean residue ellipticity\n",
        "       *   die *Initial Wavelength (nm)* ist in unserem Falle die höchste Wellenlänge\n",
        "       *   die *Final Wavelength (nm)* ist hier die niedrigeste Wellenlänge\n",
        "       *   wählen Sie den richtigen *Wavelength Step (nm)* aus\n",
        "       *   als *Lowest nm datapoint to use in the analysis* benutzen sie die niedrigeste Wellenlänge\n",
        "  *   Unter dem Punkt **Choice of Methods** wählen Sie als *Analysis Programme* K2D und lassen Sie das *Reference Set* offen. \n",
        "  *   Den Punkt **Advanced Options** lassen Sie unangetastet.\n",
        "  *   Unter dem Punkt **Output Options** wählen Sie unter *Output Units* mean residue ellipticity\n",
        "\n",
        "Schicken Sie die Anfrage über einen Klick auf **submit** ab.\n",
        "3.   Sehen Sie sich die *Compact Results* an indem Sie auf das *SHOW* darunter klicken. Notieren Sie sich die ausgegebenen Anteile für alpha-Helix, beta-Flatblatt und Zufallsknäuel. Notieren Sie auch den maximalen Fehler.\n",
        "4.   Wiederholen Sie die Eingabe unter [Input Data](http://dichroweb.cryst.bbk.ac.uk/html/process.shtml). Benutzen Sie diesmal SELCON3 als *Analysis Programme* und wählen Sie als *Reference Set* Set 7 aus. Lassen Sie sich die *Compact Results* anzeigen und notieren Sie diese.\n",
        "5. Wo liegt der Unterschied zwischen den beiden Ergebnissen? Schauen Sie sich dazu auch [diese Seite](http://dichroweb.cryst.bbk.ac.uk/html/userguide_datasets.shtml) an. \n",
        "\n",
        "\n",
        "\n",
        "\n",
        "\n"
      ],
      "metadata": {
        "id": "RBtI8-3SejfN"
      }
    },
    {
      "cell_type": "code",
      "source": [
        "#@title Einladen der **Schmelzkurve** von Myoglobin\n",
        "meltingCurveUpload = files.upload()\n",
        "meltingCurveFileName = next(iter(meltingCurveUpload))"
      ],
      "metadata": {
        "id": "-DiqkUl1sHae"
      },
      "execution_count": null,
      "outputs": []
    },
    {
      "cell_type": "code",
      "source": [
        "#@title Herausschreiben der **Temperatur** mit den zugehörigen Werten für **CD** und die **HT-Spannung** jeweils bei 223 nm aus den *zuvor eingeladenen* .txt-Dateien\n",
        "import numpy as np \n",
        "# Text file data converted to float CD_data skipping the header (first 19 lines)\n",
        "MC_data = np.loadtxt(meltingCurveFileName, skiprows=19, dtype=float)\n",
        "MC_temperature = (MC_data[:,0])\n",
        "MC_CD = (MC_data[:,1])\n",
        "MC_HT = (MC_data[:,2])\n",
        "#print(MC_temperature)"
      ],
      "metadata": {
        "id": "Ve6CjzK1slJ3"
      },
      "execution_count": null,
      "outputs": []
    },
    {
      "cell_type": "code",
      "source": [
        "#@title Darstellungsoptionen für die Darstellung der Schmelzkurve von Myoglobin\n",
        "#@markdown Wählen Sie aus welche Daten sie darstellen möchten:\n",
        "XWerte = 'Temperatur' #@param [\"Temperatur\", \"CD-Wert\", \"HT-Spannung\"]\n",
        "if(XWerte == 'Temperatur'):\n",
        "  xdata = MC_temperature\n",
        "elif(XWerte == 'CD-Wert'):\n",
        "  xdata = MC_CD\n",
        "else:\n",
        "  xdata = MC_HT\n",
        "YWerte = 'Temperatur' #@param [\"Temperatur\", \"CD-Wert\", \"HT-Spannung\"]\n",
        "if(YWerte == 'Temperatur'):\n",
        "  ydata = MC_temperature\n",
        "elif(YWerte == 'CD-Wert'):\n",
        "  ydata = MC_CD\n",
        "else:\n",
        "  ydata = MC_HT\n",
        "#@markdown Geben Sie dem Graphen einen Titel und entsprechende Achsenbeschriftungen, vergessen Sie die Einheiten nicht.\n",
        "Graphtitel = '' #@param {type:\"string\"}\n",
        "XAchsenbeschriftung = '' #@param {type:\"string\"}\n",
        "YAchsenbeschriftung = '' #@param {type:\"string\"}\n",
        "#@markdown Überlegen Sie sich in welchem X-Wertebereich eine Darstellung sinnvoll ist:\n",
        "XIntervallStart = None #@param {type:\"integer\"}\n",
        "XIntervallEnde = None #@param {type:\"integer\"}\n",
        "\n",
        "\n",
        "MC_Myoglob_Xvalues = xdata\n",
        "MC_Myoglob_Yvalues = ydata\n",
        "MC_Myoglob_Title = Graphtitel\n",
        "MC_Myoglob_XLabel = XAchsenbeschriftung\n",
        "MC_Myoglob_YLabel = YAchsenbeschriftung\n",
        "MC_Myoglob_XIntStart = XIntervallStart\n",
        "MC_Myoglob_XIntEnd = XIntervallEnde\n"
      ],
      "metadata": {
        "id": "uwB6mH4_twzA"
      },
      "execution_count": null,
      "outputs": []
    },
    {
      "cell_type": "code",
      "source": [
        "#@title Darstellung der Schmelzkurve\n",
        "# importing the required module\n",
        "import matplotlib.pyplot as plt\n",
        "\n",
        "plt.plot(MC_Myoglob_Xvalues, MC_Myoglob_Yvalues, color=\"black\")\n",
        "plt.title(MC_Myoglob_Title)\n",
        "plt.xlabel(MC_Myoglob_XLabel)\n",
        "plt.ylabel(MC_Myoglob_YLabel)\n",
        "plt.xlim(MC_Myoglob_XIntStart,MC_Myoglob_XIntEnd)\n",
        "\n",
        "plt.minorticks_on()\n",
        "\n",
        "plt.show()\n"
      ],
      "metadata": {
        "id": "CpyImshcv7Jj"
      },
      "execution_count": null,
      "outputs": []
    },
    {
      "cell_type": "code",
      "source": [
        "#@title Kurvenanglättung der Übergangskurve\n",
        "#@markdown Bevor die Übergangstemperatur bestimmt wird sollte die aufgenommene Schmelzkurve geglättet werden. Probieren Sie unterschiedliche Fensterbreiten und Polynomgrade aus und wählen Sie eine Kombination, die die Daten gut widerspiegelt.\n",
        "Fensterbreite = None #@param {type:\"integer\"}\n",
        "Polynomgrad = None #@param {type:\"integer\"}\n",
        "from scipy.signal import savgol_filter\n",
        "\n",
        "MC_smooth = savgol_filter(MC_Myoglob_Yvalues, Fensterbreite, Polynomgrad) # window size 5, polynomial order 3\n",
        "\n",
        "plt.plot(MC_Myoglob_Xvalues, MC_Myoglob_Yvalues, color=\"black\", label=\"Übergangskurve\")\n",
        "plt.plot(MC_Myoglob_Xvalues,MC_smooth, color='red', label=\"Glättung\")\n",
        "plt.title(MC_Myoglob_Title)\n",
        "plt.xlabel(MC_Myoglob_XLabel)\n",
        "plt.ylabel(MC_Myoglob_YLabel)\n",
        "plt.xlim(MC_Myoglob_XIntStart,MC_Myoglob_XIntEnd)\n",
        "plt.legend()\n",
        "\n",
        "plt.minorticks_on()\n",
        "\n",
        "plt.savefig('Myoglobin_tr.png', dpi=300)\n",
        "\n",
        "plt.show()\n"
      ],
      "metadata": {
        "id": "SpuHKJ9YCarZ"
      },
      "execution_count": null,
      "outputs": []
    },
    {
      "cell_type": "code",
      "source": [
        "#@title Bestimmung der Übergangstemperatur\n",
        "#@markdown Probieren Sie auch hier Glättungsparameter aus.\n",
        "Fensterbreite = None #@param {type:\"integer\"}\n",
        "Polynomgrad = None #@param {type:\"integer\"}\n",
        "\n",
        "processedData = np.gradient(MC_smooth)\n",
        "MC_diff_smooth = savgol_filter(processedData, Fensterbreite, Polynomgrad) # window size 5, polynomial order 3\n",
        "\n",
        "\n",
        "#@markdown Welcher Punkt der 1. Ableitung entspricht der Schmelztemperatur?\n",
        "TM = 'Minimum' #@param [\"Minimum\", \"Maximum\"]\n",
        "if(TM == 'Minimum'):\n",
        "  tm = MC_Myoglob_Xvalues[np.argmin(MC_diff_smooth)]\n",
        "else:\n",
        "  tm = MC_Myoglob_Xvalues[np.argmax(MC_diff_smooth)]\n",
        "\n",
        "processedData = np.gradient(MC_smooth)\n",
        "MC_diff_smooth = savgol_filter(processedData, 7, 2) # window size 5, polynomial order 3\n",
        "\n",
        "\n",
        "plt.plot(MC_Myoglob_Xvalues, processedData, color=\"black\", label=\"1. Ableitung\")\n",
        "plt.plot(MC_Myoglob_Xvalues, MC_diff_smooth, color=\"red\", label=\"Glättung\")\n",
        "\n",
        "plt.xlabel(MC_Myoglob_XLabel)\n",
        "plt.ylabel('1. Ableitung')\n",
        "plt.xlim(MC_Myoglob_XIntStart,MC_Myoglob_XIntEnd)\n",
        "\n",
        "plt.minorticks_on()\n",
        "plt.axvline(x = tm, color = 'b', linestyle='dashed',label = 'Schmelztemperatur')\n",
        "\n",
        "plt.legend()\n",
        "plt.show()"
      ],
      "metadata": {
        "id": "5LmuydCSybjJ"
      },
      "execution_count": null,
      "outputs": []
    },
    {
      "cell_type": "code",
      "source": [
        "#@title Einladen des **Protein-CD-Spektrums bei 65 °C**\n",
        "CD60Upload = files.upload()\n",
        "CD60FileName = next(iter(CD60Upload))"
      ],
      "metadata": {
        "id": "0hdQcF_NNOyb"
      },
      "execution_count": null,
      "outputs": []
    },
    {
      "cell_type": "code",
      "source": [
        "#@title Einladen des **Protein-CD-Spektrums bei 95 °C**\n",
        "CD90Upload = files.upload()\n",
        "CD90FileName = next(iter(CD90Upload))"
      ],
      "metadata": {
        "id": "Cn4sartUesOA"
      },
      "execution_count": null,
      "outputs": []
    },
    {
      "cell_type": "code",
      "source": [
        "#@title Herausschreiben der **Wellenlänge** mit den zugehörigen Werten für **CD** und die **HT-Spannung** aus den *zuvor eingeladenen* .txt-Dateien\n",
        "import numpy as np \n",
        "# Text file data converted to float CD_data skipping the header (first 19 lines)\n",
        "CD_data_60 = np.loadtxt(CD60FileName, skiprows=19, dtype=float)\n",
        "wavelength_60 = (CD_data_60[:,0])\n",
        "CDvalue_60  = (CD_data_60[:,1])\n",
        "HTvoltage_60  = (CD_data_60[:,2])\n",
        "# Text file data converted to float CD_data skipping the header (first 19 lines)\n",
        "CD_data_90 = np.loadtxt(CD90FileName, skiprows=19, dtype=float)\n",
        "wavelength_90 = (CD_data_90[:,0])\n",
        "CDvalue_90 = (CD_data_90[:,1])\n",
        "HTvoltage_90 = (CD_data_90[:,2])\n"
      ],
      "metadata": {
        "id": "caJ_BbYIfRPm"
      },
      "execution_count": null,
      "outputs": []
    },
    {
      "cell_type": "code",
      "source": [
        "#@title Darstellung der Myoglobinspektren bei 65 °C und 95 °C\n",
        "\n",
        "Graphtitel = '' #@param {type:\"string\"}\n",
        "XAchsenbeschriftung = '' #@param {type:\"string\"}\n",
        "YAchsenbeschriftung = '' #@param {type:\"string\"}\n",
        "XIntervallStart = None #@param {type:\"integer\"}\n",
        "XIntervallEnde = None #@param {type:\"integer\"}\n",
        "\n",
        "\n",
        "Title_60_90 = Graphtitel\n",
        "XLabel_60_90  = XAchsenbeschriftung\n",
        "YLabel_60_90  = YAchsenbeschriftung\n",
        "XIntStart_60_90  = XIntervallStart\n",
        "XIntEnd_60_90  = XIntervallEnde\n",
        "\n",
        "fig, axs = plt.subplots(2, sharex=True)\n",
        "#fig.suptitle('Vertically stacked subplots')\n",
        "axs[0].plot(wavelength_60, CDvalue_60, color=\"blue\", label=\"T = 65 °C\")\n",
        "axs[0].plot(wavelength_90, CDvalue_90, color=\"red\", label=\"T = 95 °C\")\n",
        "CDval_diff = CDvalue_60 - CDvalue_90\n",
        "CDval_diff = np.square(CDval_diff)\n",
        "CDval_diff = np.sqrt(CDval_diff)\n",
        "axs[1].plot(wavelength_90, CDval_diff, color=\"black\", label=\"Differenz\")\n",
        "\n",
        "axs[0].set_title(Title_60_90)\n",
        "#axs[1].set_title('Differenz der Spektren')\n",
        "\n",
        "axs[1].set_xlim([XIntStart_60_90, XIntEnd_60_90])\n",
        "\n",
        "axs[0].set(ylabel=YLabel_60_90)\n",
        "axs[1].set(xlabel=XLabel_60_90,ylabel='Differenz der Spektren')\n",
        "\n",
        "\n",
        "axs[0].minorticks_on()\n",
        "axs[1].minorticks_on()\n",
        "\n",
        "axs[0].axhline(y=0.5, linewidth=2, linestyle='dashed', color='black')\n",
        "\n",
        "plt.subplots_adjust(left=0.1,\n",
        "                    bottom=0.1,\n",
        "                    right=0.9,\n",
        "                    top=1.5,\n",
        "                    wspace=0.4,\n",
        "                    hspace=0.2)\n",
        "axs[0].legend()\n",
        "axs[1].legend()\n",
        "\n",
        "plt.savefig('CD_Myoglobin_65_95deg.png', dpi=300)\n",
        "\n",
        "plt.show()\n"
      ],
      "metadata": {
        "id": "qdS29Vj-g1nr"
      },
      "execution_count": null,
      "outputs": []
    },
    {
      "cell_type": "code",
      "source": [
        "#@title Download der CD-Spektren bei 65 und 95 °C\n",
        "files.download('CD_Myoglobin_65_95deg.png')"
      ],
      "metadata": {
        "id": "-NO--Yrty-vj"
      },
      "execution_count": null,
      "outputs": []
    }
  ]
}